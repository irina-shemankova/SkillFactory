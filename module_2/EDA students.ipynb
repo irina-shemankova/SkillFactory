{
 "cells": [
  {
   "cell_type": "markdown",
   "id": "e56b3bad",
   "metadata": {},
   "source": [
    "## Учебный проект EDA для предсказания оценки студента на экзамене\n",
    "Предполагаем, что учебный проект - это один из проектов UNICEF — международного подразделения ООН, чья миссия состоит в повышении уровня благополучия детей по всему миру. \n",
    "\n",
    "Суть проекта — отследить влияние условий жизни учащихся в возрасте от 15 до 22 лет на их успеваемость по математике, чтобы на ранней стадии выявлять студентов, находящихся в группе риска.\n",
    "\n",
    "Чтобы определиться с параметрами будущей модели, которая предсказывала бы результаты госэкзамена по математике для каждого ученика школы, необходимо провести разведывательный анализ данных и составить отчёт по его результатам.\n",
    "\n",
    "### Цель проекта:\n",
    "определить параметры (количественные и номинативные), которые оказывают наибольшее влияние на целевой параметр.\n",
    "\n",
    "### Задачи проекта:\n",
    " - Провести первичную обработку данных;\n",
    " - Устранить выбросы;\n",
    " - Провести корреляционный анализ количественных переменных;\n",
    " - Проанализировать номинативные переменные;\n",
    " - Отобрать параметры с наибольшим влиянием на целевой;\n",
    " - Сформулировать выводы."
   ]
  },
  {
   "cell_type": "markdown",
   "id": "60e6bf9c",
   "metadata": {},
   "source": [
    "## Блок предообработки"
   ]
  },
  {
   "cell_type": "markdown",
   "id": "af2a7f02",
   "metadata": {},
   "source": [
    "Импорт необходимых библиотек."
   ]
  },
  {
   "cell_type": "code",
   "execution_count": 1,
   "id": "856c9151",
   "metadata": {},
   "outputs": [],
   "source": [
    "import pandas as pd\n",
    "import numpy as np\n",
    "%matplotlib inline\n",
    "import matplotlib.pyplot as plt\n",
    "import seaborn as sns\n",
    "sns.set()\n",
    "from itertools import combinations\n",
    "from scipy.stats import ttest_ind"
   ]
  },
  {
   "cell_type": "markdown",
   "id": "e6f36fde",
   "metadata": {},
   "source": [
    "Создадим необходимые функции."
   ]
  },
  {
   "cell_type": "code",
   "execution_count": 15,
   "id": "63d67382",
   "metadata": {},
   "outputs": [],
   "source": [
    "def plot_bar(column, column_title):\n",
    "    '''Функция принимает на вход столбец датафрейма и строит столбчатую диаграмму распределения признака'''\n",
    "    \n",
    "    column.value_counts().plot(kind='bar',\n",
    "                               grid = True, \n",
    "                               colormap = 'coolwarm', \n",
    "                               title = column_title)"
   ]
  },
  {
   "cell_type": "code",
   "execution_count": 16,
   "id": "524fdbb6",
   "metadata": {},
   "outputs": [],
   "source": [
    "def plot_bar_sort(column, column_title):\n",
    "    '''Функция принимает на вход столбец датафрейма и строит столбчатую диаграмму распределения признака,\n",
    "    сортируя записи в алфавитном порядке'''\n",
    "   \n",
    "    column.value_counts().sort_index(ascending=True).plot(kind='bar',\n",
    "                                                          grid = True, \n",
    "                                                          colormap = 'coolwarm', \n",
    "                                                          title = column_title)"
   ]
  },
  {
   "cell_type": "code",
   "execution_count": 4,
   "id": "2c2fb9bc",
   "metadata": {},
   "outputs": [],
   "source": [
    "def percent_nan(column):\n",
    "    '''Функция принимает на вход столбец датафрейма и считает процент пропусков в нем'''\n",
    "    \n",
    "    percent_nan = round(len(students[pd.isnull(column)])/len(column)*100,2) #расчет доли и перевод ее в %\n",
    "    print(f'Пропусков {percent_nan}%')"
   ]
  },
  {
   "cell_type": "code",
   "execution_count": 77,
   "id": "522b5639",
   "metadata": {},
   "outputs": [],
   "source": [
    "def fillna_mode(column):\n",
    "    '''Функция принимает на вход столбец датафрейма и заменяет все пропуски в нем на модальное значение\n",
    "    этого столбца'''\n",
    "    return column.fillna(column.mode()[0])"
   ]
  },
  {
   "cell_type": "code",
   "execution_count": 68,
   "id": "1c4de1d4",
   "metadata": {},
   "outputs": [],
   "source": [
    "def get_boxplot(column):\n",
    "    '''Функция принимает на вход столбец датафрейма и строит boxplot для него и целевого параметра score'''\n",
    "    sns.boxplot(x=column, y='score',data = students)\n",
    "    plt.show()"
   ]
  },
  {
   "cell_type": "code",
   "execution_count": 71,
   "id": "ce3b7fed",
   "metadata": {},
   "outputs": [],
   "source": [
    "def get_stat_dif(column):\n",
    "    '''Функция определяет, есть ли статистическая разница в распределении оценок по номинативным признакам, \n",
    "    с помощью теста Стьюдента'''\n",
    "    cols = students.loc[:, column].value_counts().index[:5]\n",
    "    combinations_all = list(combinations(cols, 2))\n",
    "    for comb in combinations_all:\n",
    "        if ttest_ind(students.loc[students.loc[:, column] == comb[0], 'score'], \n",
    "                        students.loc[students.loc[:, column] == comb[1], 'score'], nan_policy='omit').pvalue \\\n",
    "            <= 0.05/len(combinations_all): \n",
    "            print('Найдены статистически значимые различия для колонки', column)\n",
    "            break"
   ]
  },
  {
   "cell_type": "markdown",
   "id": "37889c31",
   "metadata": {},
   "source": [
    "## Загрузка и первичный анализ данных"
   ]
  },
  {
   "cell_type": "code",
   "execution_count": 84,
   "id": "3b74deae",
   "metadata": {},
   "outputs": [
    {
     "data": {
      "text/html": [
       "<div>\n",
       "<style scoped>\n",
       "    .dataframe tbody tr th:only-of-type {\n",
       "        vertical-align: middle;\n",
       "    }\n",
       "\n",
       "    .dataframe tbody tr th {\n",
       "        vertical-align: top;\n",
       "    }\n",
       "\n",
       "    .dataframe thead th {\n",
       "        text-align: right;\n",
       "    }\n",
       "</style>\n",
       "<table border=\"1\" class=\"dataframe\">\n",
       "  <thead>\n",
       "    <tr style=\"text-align: right;\">\n",
       "      <th></th>\n",
       "      <th>school</th>\n",
       "      <th>sex</th>\n",
       "      <th>age</th>\n",
       "      <th>address</th>\n",
       "      <th>famsize</th>\n",
       "      <th>Pstatus</th>\n",
       "      <th>Medu</th>\n",
       "      <th>Fedu</th>\n",
       "      <th>Mjob</th>\n",
       "      <th>Fjob</th>\n",
       "      <th>reason</th>\n",
       "      <th>guardian</th>\n",
       "      <th>traveltime</th>\n",
       "      <th>studytime</th>\n",
       "      <th>failures</th>\n",
       "      <th>schoolsup</th>\n",
       "      <th>famsup</th>\n",
       "      <th>paid</th>\n",
       "      <th>activities</th>\n",
       "      <th>nursery</th>\n",
       "      <th>studytime, granular</th>\n",
       "      <th>higher</th>\n",
       "      <th>internet</th>\n",
       "      <th>romantic</th>\n",
       "      <th>famrel</th>\n",
       "      <th>freetime</th>\n",
       "      <th>goout</th>\n",
       "      <th>health</th>\n",
       "      <th>absences</th>\n",
       "      <th>score</th>\n",
       "    </tr>\n",
       "  </thead>\n",
       "  <tbody>\n",
       "    <tr>\n",
       "      <th>0</th>\n",
       "      <td>GP</td>\n",
       "      <td>F</td>\n",
       "      <td>18</td>\n",
       "      <td>U</td>\n",
       "      <td>NaN</td>\n",
       "      <td>A</td>\n",
       "      <td>4.0</td>\n",
       "      <td>4.0</td>\n",
       "      <td>at_home</td>\n",
       "      <td>teacher</td>\n",
       "      <td>course</td>\n",
       "      <td>mother</td>\n",
       "      <td>2.0</td>\n",
       "      <td>2.0</td>\n",
       "      <td>0.0</td>\n",
       "      <td>yes</td>\n",
       "      <td>no</td>\n",
       "      <td>no</td>\n",
       "      <td>no</td>\n",
       "      <td>yes</td>\n",
       "      <td>-6.0</td>\n",
       "      <td>yes</td>\n",
       "      <td>NaN</td>\n",
       "      <td>no</td>\n",
       "      <td>4.0</td>\n",
       "      <td>3.0</td>\n",
       "      <td>4.0</td>\n",
       "      <td>3.0</td>\n",
       "      <td>6.0</td>\n",
       "      <td>30.0</td>\n",
       "    </tr>\n",
       "    <tr>\n",
       "      <th>1</th>\n",
       "      <td>GP</td>\n",
       "      <td>F</td>\n",
       "      <td>17</td>\n",
       "      <td>U</td>\n",
       "      <td>GT3</td>\n",
       "      <td>NaN</td>\n",
       "      <td>1.0</td>\n",
       "      <td>1.0</td>\n",
       "      <td>at_home</td>\n",
       "      <td>other</td>\n",
       "      <td>course</td>\n",
       "      <td>father</td>\n",
       "      <td>1.0</td>\n",
       "      <td>2.0</td>\n",
       "      <td>0.0</td>\n",
       "      <td>no</td>\n",
       "      <td>yes</td>\n",
       "      <td>no</td>\n",
       "      <td>no</td>\n",
       "      <td>no</td>\n",
       "      <td>-6.0</td>\n",
       "      <td>yes</td>\n",
       "      <td>yes</td>\n",
       "      <td>no</td>\n",
       "      <td>5.0</td>\n",
       "      <td>3.0</td>\n",
       "      <td>3.0</td>\n",
       "      <td>3.0</td>\n",
       "      <td>4.0</td>\n",
       "      <td>30.0</td>\n",
       "    </tr>\n",
       "    <tr>\n",
       "      <th>2</th>\n",
       "      <td>GP</td>\n",
       "      <td>F</td>\n",
       "      <td>15</td>\n",
       "      <td>U</td>\n",
       "      <td>LE3</td>\n",
       "      <td>T</td>\n",
       "      <td>1.0</td>\n",
       "      <td>1.0</td>\n",
       "      <td>at_home</td>\n",
       "      <td>other</td>\n",
       "      <td>other</td>\n",
       "      <td>mother</td>\n",
       "      <td>1.0</td>\n",
       "      <td>2.0</td>\n",
       "      <td>3.0</td>\n",
       "      <td>yes</td>\n",
       "      <td>no</td>\n",
       "      <td>NaN</td>\n",
       "      <td>no</td>\n",
       "      <td>yes</td>\n",
       "      <td>-6.0</td>\n",
       "      <td>yes</td>\n",
       "      <td>yes</td>\n",
       "      <td>NaN</td>\n",
       "      <td>4.0</td>\n",
       "      <td>3.0</td>\n",
       "      <td>2.0</td>\n",
       "      <td>3.0</td>\n",
       "      <td>10.0</td>\n",
       "      <td>50.0</td>\n",
       "    </tr>\n",
       "    <tr>\n",
       "      <th>3</th>\n",
       "      <td>GP</td>\n",
       "      <td>F</td>\n",
       "      <td>15</td>\n",
       "      <td>U</td>\n",
       "      <td>GT3</td>\n",
       "      <td>T</td>\n",
       "      <td>4.0</td>\n",
       "      <td>2.0</td>\n",
       "      <td>health</td>\n",
       "      <td>NaN</td>\n",
       "      <td>home</td>\n",
       "      <td>mother</td>\n",
       "      <td>1.0</td>\n",
       "      <td>3.0</td>\n",
       "      <td>0.0</td>\n",
       "      <td>no</td>\n",
       "      <td>yes</td>\n",
       "      <td>yes</td>\n",
       "      <td>yes</td>\n",
       "      <td>yes</td>\n",
       "      <td>-9.0</td>\n",
       "      <td>yes</td>\n",
       "      <td>yes</td>\n",
       "      <td>yes</td>\n",
       "      <td>3.0</td>\n",
       "      <td>2.0</td>\n",
       "      <td>2.0</td>\n",
       "      <td>5.0</td>\n",
       "      <td>2.0</td>\n",
       "      <td>75.0</td>\n",
       "    </tr>\n",
       "    <tr>\n",
       "      <th>4</th>\n",
       "      <td>GP</td>\n",
       "      <td>F</td>\n",
       "      <td>16</td>\n",
       "      <td>U</td>\n",
       "      <td>GT3</td>\n",
       "      <td>T</td>\n",
       "      <td>3.0</td>\n",
       "      <td>3.0</td>\n",
       "      <td>other</td>\n",
       "      <td>other</td>\n",
       "      <td>home</td>\n",
       "      <td>father</td>\n",
       "      <td>1.0</td>\n",
       "      <td>2.0</td>\n",
       "      <td>0.0</td>\n",
       "      <td>no</td>\n",
       "      <td>yes</td>\n",
       "      <td>yes</td>\n",
       "      <td>no</td>\n",
       "      <td>yes</td>\n",
       "      <td>-6.0</td>\n",
       "      <td>yes</td>\n",
       "      <td>no</td>\n",
       "      <td>no</td>\n",
       "      <td>4.0</td>\n",
       "      <td>3.0</td>\n",
       "      <td>2.0</td>\n",
       "      <td>5.0</td>\n",
       "      <td>4.0</td>\n",
       "      <td>50.0</td>\n",
       "    </tr>\n",
       "    <tr>\n",
       "      <th>5</th>\n",
       "      <td>GP</td>\n",
       "      <td>M</td>\n",
       "      <td>16</td>\n",
       "      <td>U</td>\n",
       "      <td>LE3</td>\n",
       "      <td>T</td>\n",
       "      <td>4.0</td>\n",
       "      <td>3.0</td>\n",
       "      <td>services</td>\n",
       "      <td>other</td>\n",
       "      <td>reputation</td>\n",
       "      <td>mother</td>\n",
       "      <td>1.0</td>\n",
       "      <td>2.0</td>\n",
       "      <td>0.0</td>\n",
       "      <td>no</td>\n",
       "      <td>yes</td>\n",
       "      <td>yes</td>\n",
       "      <td>yes</td>\n",
       "      <td>yes</td>\n",
       "      <td>-6.0</td>\n",
       "      <td>yes</td>\n",
       "      <td>yes</td>\n",
       "      <td>no</td>\n",
       "      <td>5.0</td>\n",
       "      <td>4.0</td>\n",
       "      <td>2.0</td>\n",
       "      <td>5.0</td>\n",
       "      <td>10.0</td>\n",
       "      <td>75.0</td>\n",
       "    </tr>\n",
       "    <tr>\n",
       "      <th>6</th>\n",
       "      <td>GP</td>\n",
       "      <td>M</td>\n",
       "      <td>16</td>\n",
       "      <td>NaN</td>\n",
       "      <td>LE3</td>\n",
       "      <td>T</td>\n",
       "      <td>2.0</td>\n",
       "      <td>2.0</td>\n",
       "      <td>other</td>\n",
       "      <td>other</td>\n",
       "      <td>home</td>\n",
       "      <td>mother</td>\n",
       "      <td>1.0</td>\n",
       "      <td>2.0</td>\n",
       "      <td>0.0</td>\n",
       "      <td>no</td>\n",
       "      <td>no</td>\n",
       "      <td>no</td>\n",
       "      <td>no</td>\n",
       "      <td>yes</td>\n",
       "      <td>-6.0</td>\n",
       "      <td>yes</td>\n",
       "      <td>yes</td>\n",
       "      <td>no</td>\n",
       "      <td>4.0</td>\n",
       "      <td>4.0</td>\n",
       "      <td>4.0</td>\n",
       "      <td>3.0</td>\n",
       "      <td>0.0</td>\n",
       "      <td>55.0</td>\n",
       "    </tr>\n",
       "    <tr>\n",
       "      <th>7</th>\n",
       "      <td>GP</td>\n",
       "      <td>F</td>\n",
       "      <td>17</td>\n",
       "      <td>U</td>\n",
       "      <td>GT3</td>\n",
       "      <td>A</td>\n",
       "      <td>4.0</td>\n",
       "      <td>4.0</td>\n",
       "      <td>other</td>\n",
       "      <td>teacher</td>\n",
       "      <td>home</td>\n",
       "      <td>mother</td>\n",
       "      <td>2.0</td>\n",
       "      <td>2.0</td>\n",
       "      <td>0.0</td>\n",
       "      <td>yes</td>\n",
       "      <td>yes</td>\n",
       "      <td>no</td>\n",
       "      <td>no</td>\n",
       "      <td>yes</td>\n",
       "      <td>-6.0</td>\n",
       "      <td>yes</td>\n",
       "      <td>no</td>\n",
       "      <td>no</td>\n",
       "      <td>4.0</td>\n",
       "      <td>1.0</td>\n",
       "      <td>4.0</td>\n",
       "      <td>1.0</td>\n",
       "      <td>6.0</td>\n",
       "      <td>30.0</td>\n",
       "    </tr>\n",
       "    <tr>\n",
       "      <th>8</th>\n",
       "      <td>GP</td>\n",
       "      <td>M</td>\n",
       "      <td>15</td>\n",
       "      <td>U</td>\n",
       "      <td>LE3</td>\n",
       "      <td>A</td>\n",
       "      <td>3.0</td>\n",
       "      <td>2.0</td>\n",
       "      <td>services</td>\n",
       "      <td>other</td>\n",
       "      <td>home</td>\n",
       "      <td>mother</td>\n",
       "      <td>1.0</td>\n",
       "      <td>2.0</td>\n",
       "      <td>0.0</td>\n",
       "      <td>no</td>\n",
       "      <td>yes</td>\n",
       "      <td>yes</td>\n",
       "      <td>no</td>\n",
       "      <td>yes</td>\n",
       "      <td>-6.0</td>\n",
       "      <td>yes</td>\n",
       "      <td>yes</td>\n",
       "      <td>no</td>\n",
       "      <td>NaN</td>\n",
       "      <td>2.0</td>\n",
       "      <td>2.0</td>\n",
       "      <td>1.0</td>\n",
       "      <td>0.0</td>\n",
       "      <td>95.0</td>\n",
       "    </tr>\n",
       "    <tr>\n",
       "      <th>9</th>\n",
       "      <td>GP</td>\n",
       "      <td>M</td>\n",
       "      <td>15</td>\n",
       "      <td>U</td>\n",
       "      <td>NaN</td>\n",
       "      <td>NaN</td>\n",
       "      <td>3.0</td>\n",
       "      <td>4.0</td>\n",
       "      <td>other</td>\n",
       "      <td>other</td>\n",
       "      <td>home</td>\n",
       "      <td>mother</td>\n",
       "      <td>1.0</td>\n",
       "      <td>2.0</td>\n",
       "      <td>0.0</td>\n",
       "      <td>no</td>\n",
       "      <td>yes</td>\n",
       "      <td>yes</td>\n",
       "      <td>yes</td>\n",
       "      <td>yes</td>\n",
       "      <td>-6.0</td>\n",
       "      <td>yes</td>\n",
       "      <td>yes</td>\n",
       "      <td>no</td>\n",
       "      <td>5.0</td>\n",
       "      <td>5.0</td>\n",
       "      <td>1.0</td>\n",
       "      <td>5.0</td>\n",
       "      <td>0.0</td>\n",
       "      <td>75.0</td>\n",
       "    </tr>\n",
       "    <tr>\n",
       "      <th>10</th>\n",
       "      <td>GP</td>\n",
       "      <td>F</td>\n",
       "      <td>15</td>\n",
       "      <td>U</td>\n",
       "      <td>GT3</td>\n",
       "      <td>T</td>\n",
       "      <td>4.0</td>\n",
       "      <td>4.0</td>\n",
       "      <td>teacher</td>\n",
       "      <td>health</td>\n",
       "      <td>reputation</td>\n",
       "      <td>mother</td>\n",
       "      <td>1.0</td>\n",
       "      <td>2.0</td>\n",
       "      <td>0.0</td>\n",
       "      <td>no</td>\n",
       "      <td>yes</td>\n",
       "      <td>yes</td>\n",
       "      <td>no</td>\n",
       "      <td>yes</td>\n",
       "      <td>-6.0</td>\n",
       "      <td>yes</td>\n",
       "      <td>yes</td>\n",
       "      <td>no</td>\n",
       "      <td>3.0</td>\n",
       "      <td>3.0</td>\n",
       "      <td>3.0</td>\n",
       "      <td>2.0</td>\n",
       "      <td>0.0</td>\n",
       "      <td>45.0</td>\n",
       "    </tr>\n",
       "    <tr>\n",
       "      <th>11</th>\n",
       "      <td>GP</td>\n",
       "      <td>F</td>\n",
       "      <td>15</td>\n",
       "      <td>U</td>\n",
       "      <td>GT3</td>\n",
       "      <td>NaN</td>\n",
       "      <td>2.0</td>\n",
       "      <td>40.0</td>\n",
       "      <td>services</td>\n",
       "      <td>other</td>\n",
       "      <td>reputation</td>\n",
       "      <td>father</td>\n",
       "      <td>3.0</td>\n",
       "      <td>3.0</td>\n",
       "      <td>0.0</td>\n",
       "      <td>no</td>\n",
       "      <td>yes</td>\n",
       "      <td>no</td>\n",
       "      <td>yes</td>\n",
       "      <td>yes</td>\n",
       "      <td>-9.0</td>\n",
       "      <td>yes</td>\n",
       "      <td>yes</td>\n",
       "      <td>no</td>\n",
       "      <td>5.0</td>\n",
       "      <td>2.0</td>\n",
       "      <td>2.0</td>\n",
       "      <td>4.0</td>\n",
       "      <td>4.0</td>\n",
       "      <td>60.0</td>\n",
       "    </tr>\n",
       "    <tr>\n",
       "      <th>12</th>\n",
       "      <td>GP</td>\n",
       "      <td>M</td>\n",
       "      <td>15</td>\n",
       "      <td>U</td>\n",
       "      <td>LE3</td>\n",
       "      <td>T</td>\n",
       "      <td>4.0</td>\n",
       "      <td>4.0</td>\n",
       "      <td>health</td>\n",
       "      <td>services</td>\n",
       "      <td>course</td>\n",
       "      <td>father</td>\n",
       "      <td>1.0</td>\n",
       "      <td>1.0</td>\n",
       "      <td>0.0</td>\n",
       "      <td>no</td>\n",
       "      <td>yes</td>\n",
       "      <td>yes</td>\n",
       "      <td>yes</td>\n",
       "      <td>yes</td>\n",
       "      <td>-3.0</td>\n",
       "      <td>yes</td>\n",
       "      <td>NaN</td>\n",
       "      <td>no</td>\n",
       "      <td>NaN</td>\n",
       "      <td>3.0</td>\n",
       "      <td>3.0</td>\n",
       "      <td>5.0</td>\n",
       "      <td>2.0</td>\n",
       "      <td>70.0</td>\n",
       "    </tr>\n",
       "    <tr>\n",
       "      <th>13</th>\n",
       "      <td>GP</td>\n",
       "      <td>M</td>\n",
       "      <td>15</td>\n",
       "      <td>U</td>\n",
       "      <td>GT3</td>\n",
       "      <td>T</td>\n",
       "      <td>4.0</td>\n",
       "      <td>3.0</td>\n",
       "      <td>teacher</td>\n",
       "      <td>other</td>\n",
       "      <td>course</td>\n",
       "      <td>mother</td>\n",
       "      <td>2.0</td>\n",
       "      <td>2.0</td>\n",
       "      <td>0.0</td>\n",
       "      <td>no</td>\n",
       "      <td>yes</td>\n",
       "      <td>yes</td>\n",
       "      <td>no</td>\n",
       "      <td>yes</td>\n",
       "      <td>-6.0</td>\n",
       "      <td>yes</td>\n",
       "      <td>yes</td>\n",
       "      <td>NaN</td>\n",
       "      <td>5.0</td>\n",
       "      <td>4.0</td>\n",
       "      <td>3.0</td>\n",
       "      <td>3.0</td>\n",
       "      <td>2.0</td>\n",
       "      <td>55.0</td>\n",
       "    </tr>\n",
       "    <tr>\n",
       "      <th>14</th>\n",
       "      <td>GP</td>\n",
       "      <td>M</td>\n",
       "      <td>15</td>\n",
       "      <td>U</td>\n",
       "      <td>GT3</td>\n",
       "      <td>A</td>\n",
       "      <td>2.0</td>\n",
       "      <td>2.0</td>\n",
       "      <td>other</td>\n",
       "      <td>other</td>\n",
       "      <td>home</td>\n",
       "      <td>other</td>\n",
       "      <td>1.0</td>\n",
       "      <td>3.0</td>\n",
       "      <td>0.0</td>\n",
       "      <td>no</td>\n",
       "      <td>yes</td>\n",
       "      <td>no</td>\n",
       "      <td>no</td>\n",
       "      <td>yes</td>\n",
       "      <td>-9.0</td>\n",
       "      <td>yes</td>\n",
       "      <td>yes</td>\n",
       "      <td>yes</td>\n",
       "      <td>4.0</td>\n",
       "      <td>5.0</td>\n",
       "      <td>2.0</td>\n",
       "      <td>3.0</td>\n",
       "      <td>0.0</td>\n",
       "      <td>80.0</td>\n",
       "    </tr>\n",
       "    <tr>\n",
       "      <th>15</th>\n",
       "      <td>GP</td>\n",
       "      <td>F</td>\n",
       "      <td>16</td>\n",
       "      <td>U</td>\n",
       "      <td>GT3</td>\n",
       "      <td>NaN</td>\n",
       "      <td>4.0</td>\n",
       "      <td>4.0</td>\n",
       "      <td>health</td>\n",
       "      <td>other</td>\n",
       "      <td>home</td>\n",
       "      <td>mother</td>\n",
       "      <td>1.0</td>\n",
       "      <td>1.0</td>\n",
       "      <td>0.0</td>\n",
       "      <td>no</td>\n",
       "      <td>yes</td>\n",
       "      <td>no</td>\n",
       "      <td>no</td>\n",
       "      <td>yes</td>\n",
       "      <td>-3.0</td>\n",
       "      <td>yes</td>\n",
       "      <td>yes</td>\n",
       "      <td>no</td>\n",
       "      <td>4.0</td>\n",
       "      <td>4.0</td>\n",
       "      <td>4.0</td>\n",
       "      <td>2.0</td>\n",
       "      <td>4.0</td>\n",
       "      <td>70.0</td>\n",
       "    </tr>\n",
       "    <tr>\n",
       "      <th>16</th>\n",
       "      <td>GP</td>\n",
       "      <td>F</td>\n",
       "      <td>16</td>\n",
       "      <td>U</td>\n",
       "      <td>GT3</td>\n",
       "      <td>T</td>\n",
       "      <td>4.0</td>\n",
       "      <td>4.0</td>\n",
       "      <td>services</td>\n",
       "      <td>services</td>\n",
       "      <td>reputation</td>\n",
       "      <td>mother</td>\n",
       "      <td>1.0</td>\n",
       "      <td>3.0</td>\n",
       "      <td>0.0</td>\n",
       "      <td>no</td>\n",
       "      <td>yes</td>\n",
       "      <td>yes</td>\n",
       "      <td>yes</td>\n",
       "      <td>yes</td>\n",
       "      <td>-9.0</td>\n",
       "      <td>yes</td>\n",
       "      <td>yes</td>\n",
       "      <td>no</td>\n",
       "      <td>3.0</td>\n",
       "      <td>2.0</td>\n",
       "      <td>3.0</td>\n",
       "      <td>2.0</td>\n",
       "      <td>6.0</td>\n",
       "      <td>70.0</td>\n",
       "    </tr>\n",
       "    <tr>\n",
       "      <th>17</th>\n",
       "      <td>GP</td>\n",
       "      <td>F</td>\n",
       "      <td>16</td>\n",
       "      <td>U</td>\n",
       "      <td>GT3</td>\n",
       "      <td>T</td>\n",
       "      <td>3.0</td>\n",
       "      <td>3.0</td>\n",
       "      <td>other</td>\n",
       "      <td>NaN</td>\n",
       "      <td>reputation</td>\n",
       "      <td>mother</td>\n",
       "      <td>3.0</td>\n",
       "      <td>NaN</td>\n",
       "      <td>0.0</td>\n",
       "      <td>yes</td>\n",
       "      <td>NaN</td>\n",
       "      <td>no</td>\n",
       "      <td>yes</td>\n",
       "      <td>yes</td>\n",
       "      <td>NaN</td>\n",
       "      <td>yes</td>\n",
       "      <td>no</td>\n",
       "      <td>no</td>\n",
       "      <td>5.0</td>\n",
       "      <td>3.0</td>\n",
       "      <td>2.0</td>\n",
       "      <td>4.0</td>\n",
       "      <td>4.0</td>\n",
       "      <td>50.0</td>\n",
       "    </tr>\n",
       "    <tr>\n",
       "      <th>18</th>\n",
       "      <td>GP</td>\n",
       "      <td>M</td>\n",
       "      <td>17</td>\n",
       "      <td>U</td>\n",
       "      <td>GT3</td>\n",
       "      <td>T</td>\n",
       "      <td>3.0</td>\n",
       "      <td>2.0</td>\n",
       "      <td>services</td>\n",
       "      <td>services</td>\n",
       "      <td>course</td>\n",
       "      <td>mother</td>\n",
       "      <td>1.0</td>\n",
       "      <td>1.0</td>\n",
       "      <td>3.0</td>\n",
       "      <td>no</td>\n",
       "      <td>yes</td>\n",
       "      <td>NaN</td>\n",
       "      <td>yes</td>\n",
       "      <td>yes</td>\n",
       "      <td>-3.0</td>\n",
       "      <td>yes</td>\n",
       "      <td>yes</td>\n",
       "      <td>no</td>\n",
       "      <td>5.0</td>\n",
       "      <td>5.0</td>\n",
       "      <td>5.0</td>\n",
       "      <td>5.0</td>\n",
       "      <td>16.0</td>\n",
       "      <td>25.0</td>\n",
       "    </tr>\n",
       "    <tr>\n",
       "      <th>19</th>\n",
       "      <td>GP</td>\n",
       "      <td>M</td>\n",
       "      <td>16</td>\n",
       "      <td>U</td>\n",
       "      <td>LE3</td>\n",
       "      <td>T</td>\n",
       "      <td>4.0</td>\n",
       "      <td>3.0</td>\n",
       "      <td>health</td>\n",
       "      <td>other</td>\n",
       "      <td>home</td>\n",
       "      <td>father</td>\n",
       "      <td>1.0</td>\n",
       "      <td>1.0</td>\n",
       "      <td>0.0</td>\n",
       "      <td>no</td>\n",
       "      <td>no</td>\n",
       "      <td>NaN</td>\n",
       "      <td>yes</td>\n",
       "      <td>yes</td>\n",
       "      <td>-3.0</td>\n",
       "      <td>yes</td>\n",
       "      <td>yes</td>\n",
       "      <td>no</td>\n",
       "      <td>3.0</td>\n",
       "      <td>1.0</td>\n",
       "      <td>3.0</td>\n",
       "      <td>5.0</td>\n",
       "      <td>4.0</td>\n",
       "      <td>50.0</td>\n",
       "    </tr>\n",
       "  </tbody>\n",
       "</table>\n",
       "</div>"
      ],
      "text/plain": [
       "   school sex  age address famsize Pstatus  Medu  Fedu      Mjob      Fjob  \\\n",
       "0      GP   F   18       U     NaN       A   4.0   4.0   at_home   teacher   \n",
       "1      GP   F   17       U     GT3     NaN   1.0   1.0   at_home     other   \n",
       "2      GP   F   15       U     LE3       T   1.0   1.0   at_home     other   \n",
       "3      GP   F   15       U     GT3       T   4.0   2.0    health       NaN   \n",
       "4      GP   F   16       U     GT3       T   3.0   3.0     other     other   \n",
       "5      GP   M   16       U     LE3       T   4.0   3.0  services     other   \n",
       "6      GP   M   16     NaN     LE3       T   2.0   2.0     other     other   \n",
       "7      GP   F   17       U     GT3       A   4.0   4.0     other   teacher   \n",
       "8      GP   M   15       U     LE3       A   3.0   2.0  services     other   \n",
       "9      GP   M   15       U     NaN     NaN   3.0   4.0     other     other   \n",
       "10     GP   F   15       U     GT3       T   4.0   4.0   teacher    health   \n",
       "11     GP   F   15       U     GT3     NaN   2.0  40.0  services     other   \n",
       "12     GP   M   15       U     LE3       T   4.0   4.0    health  services   \n",
       "13     GP   M   15       U     GT3       T   4.0   3.0   teacher     other   \n",
       "14     GP   M   15       U     GT3       A   2.0   2.0     other     other   \n",
       "15     GP   F   16       U     GT3     NaN   4.0   4.0    health     other   \n",
       "16     GP   F   16       U     GT3       T   4.0   4.0  services  services   \n",
       "17     GP   F   16       U     GT3       T   3.0   3.0     other       NaN   \n",
       "18     GP   M   17       U     GT3       T   3.0   2.0  services  services   \n",
       "19     GP   M   16       U     LE3       T   4.0   3.0    health     other   \n",
       "\n",
       "        reason guardian  traveltime  studytime  failures schoolsup famsup  \\\n",
       "0       course   mother         2.0        2.0       0.0       yes     no   \n",
       "1       course   father         1.0        2.0       0.0        no    yes   \n",
       "2        other   mother         1.0        2.0       3.0       yes     no   \n",
       "3         home   mother         1.0        3.0       0.0        no    yes   \n",
       "4         home   father         1.0        2.0       0.0        no    yes   \n",
       "5   reputation   mother         1.0        2.0       0.0        no    yes   \n",
       "6         home   mother         1.0        2.0       0.0        no     no   \n",
       "7         home   mother         2.0        2.0       0.0       yes    yes   \n",
       "8         home   mother         1.0        2.0       0.0        no    yes   \n",
       "9         home   mother         1.0        2.0       0.0        no    yes   \n",
       "10  reputation   mother         1.0        2.0       0.0        no    yes   \n",
       "11  reputation   father         3.0        3.0       0.0        no    yes   \n",
       "12      course   father         1.0        1.0       0.0        no    yes   \n",
       "13      course   mother         2.0        2.0       0.0        no    yes   \n",
       "14        home    other         1.0        3.0       0.0        no    yes   \n",
       "15        home   mother         1.0        1.0       0.0        no    yes   \n",
       "16  reputation   mother         1.0        3.0       0.0        no    yes   \n",
       "17  reputation   mother         3.0        NaN       0.0       yes    NaN   \n",
       "18      course   mother         1.0        1.0       3.0        no    yes   \n",
       "19        home   father         1.0        1.0       0.0        no     no   \n",
       "\n",
       "   paid activities nursery  studytime, granular higher internet romantic  \\\n",
       "0    no         no     yes                 -6.0    yes      NaN       no   \n",
       "1    no         no      no                 -6.0    yes      yes       no   \n",
       "2   NaN         no     yes                 -6.0    yes      yes      NaN   \n",
       "3   yes        yes     yes                 -9.0    yes      yes      yes   \n",
       "4   yes         no     yes                 -6.0    yes       no       no   \n",
       "5   yes        yes     yes                 -6.0    yes      yes       no   \n",
       "6    no         no     yes                 -6.0    yes      yes       no   \n",
       "7    no         no     yes                 -6.0    yes       no       no   \n",
       "8   yes         no     yes                 -6.0    yes      yes       no   \n",
       "9   yes        yes     yes                 -6.0    yes      yes       no   \n",
       "10  yes         no     yes                 -6.0    yes      yes       no   \n",
       "11   no        yes     yes                 -9.0    yes      yes       no   \n",
       "12  yes        yes     yes                 -3.0    yes      NaN       no   \n",
       "13  yes         no     yes                 -6.0    yes      yes      NaN   \n",
       "14   no         no     yes                 -9.0    yes      yes      yes   \n",
       "15   no         no     yes                 -3.0    yes      yes       no   \n",
       "16  yes        yes     yes                 -9.0    yes      yes       no   \n",
       "17   no        yes     yes                  NaN    yes       no       no   \n",
       "18  NaN        yes     yes                 -3.0    yes      yes       no   \n",
       "19  NaN        yes     yes                 -3.0    yes      yes       no   \n",
       "\n",
       "    famrel  freetime  goout  health  absences  score  \n",
       "0      4.0       3.0    4.0     3.0       6.0   30.0  \n",
       "1      5.0       3.0    3.0     3.0       4.0   30.0  \n",
       "2      4.0       3.0    2.0     3.0      10.0   50.0  \n",
       "3      3.0       2.0    2.0     5.0       2.0   75.0  \n",
       "4      4.0       3.0    2.0     5.0       4.0   50.0  \n",
       "5      5.0       4.0    2.0     5.0      10.0   75.0  \n",
       "6      4.0       4.0    4.0     3.0       0.0   55.0  \n",
       "7      4.0       1.0    4.0     1.0       6.0   30.0  \n",
       "8      NaN       2.0    2.0     1.0       0.0   95.0  \n",
       "9      5.0       5.0    1.0     5.0       0.0   75.0  \n",
       "10     3.0       3.0    3.0     2.0       0.0   45.0  \n",
       "11     5.0       2.0    2.0     4.0       4.0   60.0  \n",
       "12     NaN       3.0    3.0     5.0       2.0   70.0  \n",
       "13     5.0       4.0    3.0     3.0       2.0   55.0  \n",
       "14     4.0       5.0    2.0     3.0       0.0   80.0  \n",
       "15     4.0       4.0    4.0     2.0       4.0   70.0  \n",
       "16     3.0       2.0    3.0     2.0       6.0   70.0  \n",
       "17     5.0       3.0    2.0     4.0       4.0   50.0  \n",
       "18     5.0       5.0    5.0     5.0      16.0   25.0  \n",
       "19     3.0       1.0    3.0     5.0       4.0   50.0  "
      ]
     },
     "metadata": {},
     "output_type": "display_data"
    },
    {
     "name": "stdout",
     "output_type": "stream",
     "text": [
      "<class 'pandas.core.frame.DataFrame'>\n",
      "RangeIndex: 395 entries, 0 to 394\n",
      "Data columns (total 30 columns):\n",
      " #   Column               Non-Null Count  Dtype  \n",
      "---  ------               --------------  -----  \n",
      " 0   school               395 non-null    object \n",
      " 1   sex                  395 non-null    object \n",
      " 2   age                  395 non-null    int64  \n",
      " 3   address              378 non-null    object \n",
      " 4   famsize              368 non-null    object \n",
      " 5   Pstatus              350 non-null    object \n",
      " 6   Medu                 392 non-null    float64\n",
      " 7   Fedu                 371 non-null    float64\n",
      " 8   Mjob                 376 non-null    object \n",
      " 9   Fjob                 359 non-null    object \n",
      " 10  reason               378 non-null    object \n",
      " 11  guardian             364 non-null    object \n",
      " 12  traveltime           367 non-null    float64\n",
      " 13  studytime            388 non-null    float64\n",
      " 14  failures             373 non-null    float64\n",
      " 15  schoolsup            386 non-null    object \n",
      " 16  famsup               356 non-null    object \n",
      " 17  paid                 355 non-null    object \n",
      " 18  activities           381 non-null    object \n",
      " 19  nursery              379 non-null    object \n",
      " 20  studytime, granular  388 non-null    float64\n",
      " 21  higher               375 non-null    object \n",
      " 22  internet             361 non-null    object \n",
      " 23  romantic             364 non-null    object \n",
      " 24  famrel               368 non-null    float64\n",
      " 25  freetime             384 non-null    float64\n",
      " 26  goout                387 non-null    float64\n",
      " 27  health               380 non-null    float64\n",
      " 28  absences             383 non-null    float64\n",
      " 29  score                389 non-null    float64\n",
      "dtypes: float64(12), int64(1), object(17)\n",
      "memory usage: 92.7+ KB\n"
     ]
    }
   ],
   "source": [
    "pd.set_option('display.max_rows', 50) # показывать больше строк\n",
    "pd.set_option('display.max_columns', 50) # показывать больше колонок\n",
    "\n",
    "students = pd.read_csv('stud_math.csv')\n",
    "\n",
    "display(students.head(20))\n",
    "students.info() "
   ]
  },
  {
   "cell_type": "markdown",
   "id": "d43f8159",
   "metadata": {},
   "source": [
    "На первый взгляд, проблем с типами данных нет. \n",
    "Рассмотрим каждый столбец подробнее. Также рассмотрим процент пропусков в них. Если пропусков будет меньше 10%, тогда ничего делать с ними не будем, если больше - будем заменять или удалять."
   ]
  },
  {
   "cell_type": "markdown",
   "id": "0c0bb20c",
   "metadata": {},
   "source": [
    "## school\n",
    "Аббревиатура школы, в которой учится ученик. Содержит 395 ненулевых значений (заполнено полностью)."
   ]
  },
  {
   "cell_type": "code",
   "execution_count": 125,
   "id": "f564f7e8",
   "metadata": {},
   "outputs": [
    {
     "data": {
      "image/png": "[encoded data removed]",
      "text/plain": [
       "<Figure size 432x288 with 1 Axes>"
      ]
     },
     "metadata": {},
     "output_type": "display_data"
    }
   ],
   "source": [
    "plot_bar(students.school, 'Количество студентов разных школ')"
   ]
  },
  {
   "cell_type": "markdown",
   "id": "f8a5f8c1",
   "metadata": {},
   "source": [
    "В датасете представлены выпускники двух школ, причем GP в значительно большем количестве."
   ]
  },
  {
   "cell_type": "markdown",
   "id": "2c320679",
   "metadata": {},
   "source": [
    "## sex\n",
    "Пол ученика ('F' - женский, 'M' - мужской). Содержит 395 ненулевых значений (заполнено полностью)."
   ]
  },
  {
   "cell_type": "code",
   "execution_count": 126,
   "id": "9d628263",
   "metadata": {},
   "outputs": [
    {
     "data": {
      "image/png": "[encoded data removed]",
      "text/plain": [
       "<Figure size 432x288 with 1 Axes>"
      ]
     },
     "metadata": {},
     "output_type": "display_data"
    }
   ],
   "source": [
    "plot_bar(students.sex,'Количество студентов разного пола')"
   ]
  },
  {
   "cell_type": "markdown",
   "id": "0a3de4cd",
   "metadata": {},
   "source": [
    "Видим, что количество мальчиков и девочек примерно одинаково."
   ]
  },
  {
   "cell_type": "markdown",
   "id": "9e53896f",
   "metadata": {},
   "source": [
    "## age\n",
    "Возраст ученика (от 15 до 22). Содержит 395 ненулевых значений (заполнено полностью)."
   ]
  },
  {
   "cell_type": "code",
   "execution_count": 127,
   "id": "09934eac",
   "metadata": {},
   "outputs": [
    {
     "data": {
      "image/png": "[encoded data removed]",
      "text/plain": [
       "<Figure size 432x288 with 1 Axes>"
      ]
     },
     "metadata": {},
     "output_type": "display_data"
    }
   ],
   "source": [
    "plot_bar_sort(students.age, 'Количество студентов разного возраста')    "
   ]
  },
  {
   "cell_type": "code",
   "execution_count": 128,
   "id": "1a8317b5",
   "metadata": {},
   "outputs": [
    {
     "data": {
      "text/plain": [
       "count    395.000000\n",
       "mean      16.696203\n",
       "std        1.276043\n",
       "min       15.000000\n",
       "25%       16.000000\n",
       "50%       17.000000\n",
       "75%       18.000000\n",
       "max       22.000000\n",
       "Name: age, dtype: float64"
      ]
     },
     "execution_count": 128,
     "metadata": {},
     "output_type": "execute_result"
    }
   ],
   "source": [
    "students.age.describe()"
   ]
  },
  {
   "cell_type": "markdown",
   "id": "4bee358e",
   "metadata": {},
   "source": [
    "Все студенты примено одного возраста (больших отклонений нет), среднее значение 16 лет."
   ]
  },
  {
   "cell_type": "markdown",
   "id": "cc9a7097",
   "metadata": {},
   "source": [
    "## address\n",
    "Тип адреса ученика ('U' - городской, 'R' - за городом)"
   ]
  },
  {
   "cell_type": "code",
   "execution_count": 129,
   "id": "3f08dd8d",
   "metadata": {},
   "outputs": [
    {
     "data": {
      "text/html": [
       "<div>\n",
       "<style scoped>\n",
       "    .dataframe tbody tr th:only-of-type {\n",
       "        vertical-align: middle;\n",
       "    }\n",
       "\n",
       "    .dataframe tbody tr th {\n",
       "        vertical-align: top;\n",
       "    }\n",
       "\n",
       "    .dataframe thead th {\n",
       "        text-align: right;\n",
       "    }\n",
       "</style>\n",
       "<table border=\"1\" class=\"dataframe\">\n",
       "  <thead>\n",
       "    <tr style=\"text-align: right;\">\n",
       "      <th></th>\n",
       "      <th>address</th>\n",
       "    </tr>\n",
       "  </thead>\n",
       "  <tbody>\n",
       "    <tr>\n",
       "      <th>U</th>\n",
       "      <td>295</td>\n",
       "    </tr>\n",
       "    <tr>\n",
       "      <th>R</th>\n",
       "      <td>83</td>\n",
       "    </tr>\n",
       "    <tr>\n",
       "      <th>NaN</th>\n",
       "      <td>17</td>\n",
       "    </tr>\n",
       "  </tbody>\n",
       "</table>\n",
       "</div>"
      ],
      "text/plain": [
       "     address\n",
       "U        295\n",
       "R         83\n",
       "NaN       17"
      ]
     },
     "execution_count": 129,
     "metadata": {},
     "output_type": "execute_result"
    }
   ],
   "source": [
    "pd.DataFrame(students.address.value_counts(dropna=False))"
   ]
  },
  {
   "cell_type": "code",
   "execution_count": 130,
   "id": "81faa624",
   "metadata": {},
   "outputs": [
    {
     "name": "stdout",
     "output_type": "stream",
     "text": [
      "Пропусков 4.3%\n"
     ]
    }
   ],
   "source": [
    "percent_nan(students.address)"
   ]
  },
  {
   "cell_type": "code",
   "execution_count": 131,
   "id": "d4ae07ce",
   "metadata": {},
   "outputs": [
    {
     "data": {
      "image/png": "[encoded data removed]",
      "text/plain": [
       "<Figure size 432x288 with 1 Axes>"
      ]
     },
     "metadata": {},
     "output_type": "display_data"
    }
   ],
   "source": [
    "plot_bar(students.address, 'Количество студентов, проживающих в городе и за городом')"
   ]
  },
  {
   "cell_type": "markdown",
   "id": "d5074e8c",
   "metadata": {},
   "source": [
    "В датасете данные о 295 учениках, проживающих в городе, и 83 учениках, проживающих за городом. О проживании 17 учеников данных нет."
   ]
  },
  {
   "cell_type": "markdown",
   "id": "9c815511",
   "metadata": {},
   "source": [
    "## famsize"
   ]
  },
  {
   "cell_type": "markdown",
   "id": "303deb26",
   "metadata": {},
   "source": [
    "Размер семьи ученика ('LE3' <= 3, 'GT3' >3)"
   ]
  },
  {
   "cell_type": "code",
   "execution_count": 79,
   "id": "17941bde",
   "metadata": {},
   "outputs": [
    {
     "data": {
      "text/html": [
       "<div>\n",
       "<style scoped>\n",
       "    .dataframe tbody tr th:only-of-type {\n",
       "        vertical-align: middle;\n",
       "    }\n",
       "\n",
       "    .dataframe tbody tr th {\n",
       "        vertical-align: top;\n",
       "    }\n",
       "\n",
       "    .dataframe thead th {\n",
       "        text-align: right;\n",
       "    }\n",
       "</style>\n",
       "<table border=\"1\" class=\"dataframe\">\n",
       "  <thead>\n",
       "    <tr style=\"text-align: right;\">\n",
       "      <th></th>\n",
       "      <th>famsize</th>\n",
       "    </tr>\n",
       "  </thead>\n",
       "  <tbody>\n",
       "    <tr>\n",
       "      <th>GT3</th>\n",
       "      <td>261</td>\n",
       "    </tr>\n",
       "    <tr>\n",
       "      <th>LE3</th>\n",
       "      <td>107</td>\n",
       "    </tr>\n",
       "    <tr>\n",
       "      <th>NaN</th>\n",
       "      <td>27</td>\n",
       "    </tr>\n",
       "  </tbody>\n",
       "</table>\n",
       "</div>"
      ],
      "text/plain": [
       "     famsize\n",
       "GT3      261\n",
       "LE3      107\n",
       "NaN       27"
      ]
     },
     "execution_count": 79,
     "metadata": {},
     "output_type": "execute_result"
    }
   ],
   "source": [
    "pd.DataFrame(students.famsize.value_counts(dropna=False))"
   ]
  },
  {
   "cell_type": "code",
   "execution_count": 133,
   "id": "d957a6fe",
   "metadata": {},
   "outputs": [
    {
     "name": "stdout",
     "output_type": "stream",
     "text": [
      "Пропусков 6.84%\n"
     ]
    }
   ],
   "source": [
    "percent_nan(students.famsize)"
   ]
  },
  {
   "cell_type": "code",
   "execution_count": 134,
   "id": "97ecf802",
   "metadata": {},
   "outputs": [
    {
     "data": {
      "image/png": "[encoded data removed]",
      "text/plain": [
       "<Figure size 432x288 with 1 Axes>"
      ]
     },
     "metadata": {},
     "output_type": "display_data"
    }
   ],
   "source": [
    "plot_bar(students.famsize, 'Размер семьи ученика')"
   ]
  },
  {
   "cell_type": "markdown",
   "id": "e79611e7",
   "metadata": {},
   "source": [
    "В датасете данные о 261 ученике из немногодетной семьи и 107 учениках из многодетной семьи. О составе семьи 27 учеников данных нет."
   ]
  },
  {
   "cell_type": "markdown",
   "id": "186d3624",
   "metadata": {},
   "source": [
    "## Pstatus\n",
    "Статус совместного жилья родителей ('T' - живут вместе 'A' - раздельно)"
   ]
  },
  {
   "cell_type": "code",
   "execution_count": 85,
   "id": "d950c1c3",
   "metadata": {},
   "outputs": [
    {
     "data": {
      "text/html": [
       "<div>\n",
       "<style scoped>\n",
       "    .dataframe tbody tr th:only-of-type {\n",
       "        vertical-align: middle;\n",
       "    }\n",
       "\n",
       "    .dataframe tbody tr th {\n",
       "        vertical-align: top;\n",
       "    }\n",
       "\n",
       "    .dataframe thead th {\n",
       "        text-align: right;\n",
       "    }\n",
       "</style>\n",
       "<table border=\"1\" class=\"dataframe\">\n",
       "  <thead>\n",
       "    <tr style=\"text-align: right;\">\n",
       "      <th></th>\n",
       "      <th>Pstatus</th>\n",
       "    </tr>\n",
       "  </thead>\n",
       "  <tbody>\n",
       "    <tr>\n",
       "      <th>T</th>\n",
       "      <td>314</td>\n",
       "    </tr>\n",
       "    <tr>\n",
       "      <th>NaN</th>\n",
       "      <td>45</td>\n",
       "    </tr>\n",
       "    <tr>\n",
       "      <th>A</th>\n",
       "      <td>36</td>\n",
       "    </tr>\n",
       "  </tbody>\n",
       "</table>\n",
       "</div>"
      ],
      "text/plain": [
       "     Pstatus\n",
       "T        314\n",
       "NaN       45\n",
       "A         36"
      ]
     },
     "execution_count": 85,
     "metadata": {},
     "output_type": "execute_result"
    }
   ],
   "source": [
    "pd.DataFrame(students.Pstatus.value_counts(dropna=False))"
   ]
  },
  {
   "cell_type": "code",
   "execution_count": 136,
   "id": "829860af",
   "metadata": {},
   "outputs": [
    {
     "name": "stdout",
     "output_type": "stream",
     "text": [
      "Пропусков 11.39%\n"
     ]
    }
   ],
   "source": [
    "percent_nan(students.Pstatus)"
   ]
  },
  {
   "cell_type": "markdown",
   "id": "5dd2f4be",
   "metadata": {},
   "source": [
    "Пропусков более 10%. Заменим их модальным значением."
   ]
  },
  {
   "cell_type": "code",
   "execution_count": 86,
   "id": "a2aa6446",
   "metadata": {},
   "outputs": [],
   "source": [
    "students.Pstatus = fillna_mode(students.Pstatus)"
   ]
  },
  {
   "cell_type": "code",
   "execution_count": 89,
   "id": "68ea0f3a",
   "metadata": {},
   "outputs": [
    {
     "data": {
      "text/html": [
       "<div>\n",
       "<style scoped>\n",
       "    .dataframe tbody tr th:only-of-type {\n",
       "        vertical-align: middle;\n",
       "    }\n",
       "\n",
       "    .dataframe tbody tr th {\n",
       "        vertical-align: top;\n",
       "    }\n",
       "\n",
       "    .dataframe thead th {\n",
       "        text-align: right;\n",
       "    }\n",
       "</style>\n",
       "<table border=\"1\" class=\"dataframe\">\n",
       "  <thead>\n",
       "    <tr style=\"text-align: right;\">\n",
       "      <th></th>\n",
       "      <th>Pstatus</th>\n",
       "    </tr>\n",
       "  </thead>\n",
       "  <tbody>\n",
       "    <tr>\n",
       "      <th>T</th>\n",
       "      <td>359</td>\n",
       "    </tr>\n",
       "    <tr>\n",
       "      <th>A</th>\n",
       "      <td>36</td>\n",
       "    </tr>\n",
       "  </tbody>\n",
       "</table>\n",
       "</div>"
      ],
      "text/plain": [
       "   Pstatus\n",
       "T      359\n",
       "A       36"
      ]
     },
     "execution_count": 89,
     "metadata": {},
     "output_type": "execute_result"
    }
   ],
   "source": [
    "pd.DataFrame(students.Pstatus.value_counts(dropna=False))"
   ]
  },
  {
   "cell_type": "code",
   "execution_count": 17,
   "id": "90195283",
   "metadata": {},
   "outputs": [
    {
     "data": {
      "image/png": "[encoded data removed]",
      "text/plain": [
       "<Figure size 432x288 with 1 Axes>"
      ]
     },
     "metadata": {},
     "output_type": "display_data"
    }
   ],
   "source": [
    "plot_bar(students.Pstatus, 'Статус совместного жилья родителей')"
   ]
  },
  {
   "cell_type": "markdown",
   "id": "8b5bb26f",
   "metadata": {},
   "source": [
    "В датасете данные о 314 учениках из полной семьи и 36 учениках из неполной семьи. О составе семьи 45 учеников данных не было, поэтому мы приняли допущение, что они растут в полной семье."
   ]
  },
  {
   "cell_type": "markdown",
   "id": "b2c350ff",
   "metadata": {},
   "source": [
    "## Medu\n",
    "Образование матери (0 - нет, 1 - 4 класса, 2 - 5-9 классы, 3 - среднее специальное или 11 классов, 4 - высшее)"
   ]
  },
  {
   "cell_type": "code",
   "execution_count": 138,
   "id": "a76c4a40",
   "metadata": {},
   "outputs": [
    {
     "data": {
      "text/html": [
       "<div>\n",
       "<style scoped>\n",
       "    .dataframe tbody tr th:only-of-type {\n",
       "        vertical-align: middle;\n",
       "    }\n",
       "\n",
       "    .dataframe tbody tr th {\n",
       "        vertical-align: top;\n",
       "    }\n",
       "\n",
       "    .dataframe thead th {\n",
       "        text-align: right;\n",
       "    }\n",
       "</style>\n",
       "<table border=\"1\" class=\"dataframe\">\n",
       "  <thead>\n",
       "    <tr style=\"text-align: right;\">\n",
       "      <th></th>\n",
       "      <th>Medu</th>\n",
       "    </tr>\n",
       "  </thead>\n",
       "  <tbody>\n",
       "    <tr>\n",
       "      <th>4.0</th>\n",
       "      <td>131</td>\n",
       "    </tr>\n",
       "    <tr>\n",
       "      <th>2.0</th>\n",
       "      <td>102</td>\n",
       "    </tr>\n",
       "    <tr>\n",
       "      <th>3.0</th>\n",
       "      <td>97</td>\n",
       "    </tr>\n",
       "    <tr>\n",
       "      <th>1.0</th>\n",
       "      <td>59</td>\n",
       "    </tr>\n",
       "    <tr>\n",
       "      <th>NaN</th>\n",
       "      <td>3</td>\n",
       "    </tr>\n",
       "    <tr>\n",
       "      <th>0.0</th>\n",
       "      <td>3</td>\n",
       "    </tr>\n",
       "  </tbody>\n",
       "</table>\n",
       "</div>"
      ],
      "text/plain": [
       "     Medu\n",
       "4.0   131\n",
       "2.0   102\n",
       "3.0    97\n",
       "1.0    59\n",
       "NaN     3\n",
       "0.0     3"
      ]
     },
     "execution_count": 138,
     "metadata": {},
     "output_type": "execute_result"
    }
   ],
   "source": [
    "pd.DataFrame(students.Medu.value_counts(dropna=False))"
   ]
  },
  {
   "cell_type": "code",
   "execution_count": 139,
   "id": "bb2ef140",
   "metadata": {},
   "outputs": [
    {
     "name": "stdout",
     "output_type": "stream",
     "text": [
      "Пропусков 0.76%\n"
     ]
    }
   ],
   "source": [
    "percent_nan(students.Medu)"
   ]
  },
  {
   "cell_type": "markdown",
   "id": "20603bf1",
   "metadata": {},
   "source": [
    "Выбросов в данных нет."
   ]
  },
  {
   "cell_type": "code",
   "execution_count": 140,
   "id": "6723f1bc",
   "metadata": {},
   "outputs": [
    {
     "data": {
      "image/png": "[encoded data removed]",
      "text/plain": [
       "<Figure size 432x288 with 1 Axes>"
      ]
     },
     "metadata": {},
     "output_type": "display_data"
    }
   ],
   "source": [
    "plot_bar_sort(students.Medu, 'Образование матери студента')"
   ]
  },
  {
   "cell_type": "markdown",
   "id": "b1e20a0b",
   "metadata": {},
   "source": [
    "Среди матерей студентов преобладают люди с высшим образованием, что говорит в целом о высоком уровне образованности."
   ]
  },
  {
   "cell_type": "markdown",
   "id": "3986b22c",
   "metadata": {},
   "source": [
    "## Fedu\n",
    "Образование отца (0 - нет, 1 - 4 класса, 2 - 5-9 классы, 3 - среднее специальное или 11 классов, 4 - высшее)"
   ]
  },
  {
   "cell_type": "code",
   "execution_count": 141,
   "id": "bddbdcc4",
   "metadata": {},
   "outputs": [
    {
     "data": {
      "text/plain": [
       "2.0     106\n",
       "3.0      96\n",
       "4.0      88\n",
       "1.0      78\n",
       "NaN      24\n",
       "0.0       2\n",
       "40.0      1\n",
       "Name: Fedu, dtype: int64"
      ]
     },
     "execution_count": 141,
     "metadata": {},
     "output_type": "execute_result"
    }
   ],
   "source": [
    "students.Fedu.value_counts(dropna=False)"
   ]
  },
  {
   "cell_type": "markdown",
   "id": "3f34956d",
   "metadata": {},
   "source": [
    "В данных присутствует один выброс (40.0). Скорее всего, была допущена опечатка, заменим на 4.0. "
   ]
  },
  {
   "cell_type": "code",
   "execution_count": 52,
   "id": "a1cc59d3",
   "metadata": {},
   "outputs": [
    {
     "data": {
      "text/plain": [
       "2.0    106\n",
       "3.0     96\n",
       "4.0     89\n",
       "1.0     78\n",
       "NaN     24\n",
       "0.0      2\n",
       "Name: Fedu, dtype: int64"
      ]
     },
     "execution_count": 52,
     "metadata": {},
     "output_type": "execute_result"
    }
   ],
   "source": [
    "students.loc[students.Fedu == 40.0, 'Fedu'] = 4.0\n",
    "students.Fedu.value_counts(dropna=False)"
   ]
  },
  {
   "cell_type": "code",
   "execution_count": 143,
   "id": "23f864dd",
   "metadata": {},
   "outputs": [
    {
     "name": "stdout",
     "output_type": "stream",
     "text": [
      "Пропусков 6.08%\n"
     ]
    }
   ],
   "source": [
    "percent_nan(students.Fedu)"
   ]
  },
  {
   "cell_type": "code",
   "execution_count": 144,
   "id": "abf8c2e0",
   "metadata": {},
   "outputs": [
    {
     "data": {
      "image/png": "[encoded data removed]",
      "text/plain": [
       "<Figure size 432x288 with 1 Axes>"
      ]
     },
     "metadata": {},
     "output_type": "display_data"
    }
   ],
   "source": [
    "plot_bar_sort(students.Fedu, 'Образование отца студента')"
   ]
  },
  {
   "cell_type": "markdown",
   "id": "91d429db",
   "metadata": {},
   "source": [
    "Образование отца в целом ниже образования матери (преобрадает незаконченное среднее). "
   ]
  },
  {
   "cell_type": "markdown",
   "id": "4392c997",
   "metadata": {},
   "source": [
    "## Mjob\n",
    "Работа матери ('teacher' - учитель, 'health' - сфера здравоохранения, 'services' - гос служба, 'at_home' - не работает, 'other' - другое)"
   ]
  },
  {
   "cell_type": "code",
   "execution_count": 145,
   "id": "578d5d9b",
   "metadata": {},
   "outputs": [
    {
     "data": {
      "text/plain": [
       "other       133\n",
       "services     98\n",
       "at_home      58\n",
       "teacher      55\n",
       "health       32\n",
       "NaN          19\n",
       "Name: Mjob, dtype: int64"
      ]
     },
     "execution_count": 145,
     "metadata": {},
     "output_type": "execute_result"
    }
   ],
   "source": [
    "students.Mjob.value_counts(dropna=False)"
   ]
  },
  {
   "cell_type": "code",
   "execution_count": 146,
   "id": "d08fe170",
   "metadata": {},
   "outputs": [
    {
     "name": "stdout",
     "output_type": "stream",
     "text": [
      "Пропусков 4.81%\n"
     ]
    }
   ],
   "source": [
    "percent_nan(students.Mjob)"
   ]
  },
  {
   "cell_type": "code",
   "execution_count": 147,
   "id": "074cb765",
   "metadata": {},
   "outputs": [
    {
     "data": {
      "image/png": "[encoded data removed]",
      "text/plain": [
       "<Figure size 432x288 with 1 Axes>"
      ]
     },
     "metadata": {},
     "output_type": "display_data"
    }
   ],
   "source": [
    "plot_bar(students.Mjob, 'Работа матери студента')"
   ]
  },
  {
   "cell_type": "markdown",
   "id": "dce8ca69",
   "metadata": {},
   "source": [
    "Работа матери преимущественно связана с госслужбой или с профессиями, не вошедшими в опрос."
   ]
  },
  {
   "cell_type": "markdown",
   "id": "70969c5a",
   "metadata": {},
   "source": [
    "## Fjob\n",
    "Работа отца ('teacher' - учитель, 'health' - сфера здравоохранения, 'services' - гос служба, 'at_home' - не работает, 'other' - другое)"
   ]
  },
  {
   "cell_type": "code",
   "execution_count": 148,
   "id": "8a714120",
   "metadata": {},
   "outputs": [
    {
     "data": {
      "text/plain": [
       "other       197\n",
       "services    102\n",
       "NaN          36\n",
       "teacher      29\n",
       "at_home      16\n",
       "health       15\n",
       "Name: Fjob, dtype: int64"
      ]
     },
     "execution_count": 148,
     "metadata": {},
     "output_type": "execute_result"
    }
   ],
   "source": [
    "students.Fjob.value_counts(dropna=False)"
   ]
  },
  {
   "cell_type": "code",
   "execution_count": 149,
   "id": "93e07f0d",
   "metadata": {},
   "outputs": [
    {
     "name": "stdout",
     "output_type": "stream",
     "text": [
      "Пропусков 9.11%\n"
     ]
    }
   ],
   "source": [
    "percent_nan(students.Fjob)"
   ]
  },
  {
   "cell_type": "code",
   "execution_count": 150,
   "id": "ca8ce3a3",
   "metadata": {},
   "outputs": [
    {
     "data": {
      "image/png": "[encoded data removed]",
      "text/plain": [
       "<Figure size 432x288 with 1 Axes>"
      ]
     },
     "metadata": {},
     "output_type": "display_data"
    }
   ],
   "source": [
    "plot_bar(students.Fjob, 'Работа отца студента')"
   ]
  },
  {
   "cell_type": "markdown",
   "id": "a2d9725c",
   "metadata": {},
   "source": [
    "Работа отца, также как и работа матери, преимущественно связана с госслужбой или с профессиями, не вошедшими в опрос."
   ]
  },
  {
   "cell_type": "markdown",
   "id": "859ebcbd",
   "metadata": {},
   "source": [
    "## reason\n",
    "Причина выбора школы ('home' - близость к дому, 'reputation' - репутация школы, 'course' - образовательная программа, 'other' - другое)"
   ]
  },
  {
   "cell_type": "code",
   "execution_count": 151,
   "id": "793457a9",
   "metadata": {},
   "outputs": [
    {
     "data": {
      "text/plain": [
       "course        137\n",
       "home          104\n",
       "reputation    103\n",
       "other          34\n",
       "NaN            17\n",
       "Name: reason, dtype: int64"
      ]
     },
     "execution_count": 151,
     "metadata": {},
     "output_type": "execute_result"
    }
   ],
   "source": [
    "students.reason.value_counts(dropna=False)"
   ]
  },
  {
   "cell_type": "code",
   "execution_count": 152,
   "id": "b3459cfc",
   "metadata": {},
   "outputs": [
    {
     "name": "stdout",
     "output_type": "stream",
     "text": [
      "Пропусков 4.3%\n"
     ]
    }
   ],
   "source": [
    "percent_nan(students.reason)"
   ]
  },
  {
   "cell_type": "code",
   "execution_count": 153,
   "id": "f0dee9eb",
   "metadata": {},
   "outputs": [
    {
     "data": {
      "image/png": "[encoded data removed]",
      "text/plain": [
       "<Figure size 432x288 with 1 Axes>"
      ]
     },
     "metadata": {},
     "output_type": "display_data"
    }
   ],
   "source": [
    "plot_bar(students.reason, 'Причина выбора школы')"
   ]
  },
  {
   "cell_type": "markdown",
   "id": "abf27b2b",
   "metadata": {},
   "source": [
    "В случае выбора школа явной тенденции к чему-либо нет, причины выбора распределились примерно поровну, немного больше голосов за образовательную программу."
   ]
  },
  {
   "cell_type": "markdown",
   "id": "9cf4cd89",
   "metadata": {},
   "source": [
    "## guardian\n",
    "Опекун ('mother' - мать, 'father' - отец, 'other' - другое)"
   ]
  },
  {
   "cell_type": "code",
   "execution_count": 154,
   "id": "0bf4e943",
   "metadata": {},
   "outputs": [
    {
     "data": {
      "text/plain": [
       "mother    250\n",
       "father     86\n",
       "NaN        31\n",
       "other      28\n",
       "Name: guardian, dtype: int64"
      ]
     },
     "execution_count": 154,
     "metadata": {},
     "output_type": "execute_result"
    }
   ],
   "source": [
    "students.guardian.value_counts(dropna=False)"
   ]
  },
  {
   "cell_type": "code",
   "execution_count": 155,
   "id": "9ecbb670",
   "metadata": {},
   "outputs": [
    {
     "name": "stdout",
     "output_type": "stream",
     "text": [
      "Пропусков 7.85%\n"
     ]
    }
   ],
   "source": [
    "percent_nan(students.guardian)"
   ]
  },
  {
   "cell_type": "code",
   "execution_count": 156,
   "id": "7aa3692a",
   "metadata": {},
   "outputs": [
    {
     "data": {
      "image/png": "[encoded data removed]",
      "text/plain": [
       "<Figure size 432x288 with 1 Axes>"
      ]
     },
     "metadata": {},
     "output_type": "display_data"
    }
   ],
   "source": [
    "plot_bar(students.guardian,'Опекун')"
   ]
  },
  {
   "cell_type": "markdown",
   "id": "f2d5b4fa",
   "metadata": {},
   "source": [
    "В случае опекуна явный отрыв в голосах у матери, что вполне ожидаемо."
   ]
  },
  {
   "cell_type": "markdown",
   "id": "2bf2185c",
   "metadata": {},
   "source": [
    "## traveltime\n",
    "Время в пути до школы (1 - <15 мин., 2 - 15-30 мин., 3 - 30-60 мин., 4 - >60 мин.)"
   ]
  },
  {
   "cell_type": "code",
   "execution_count": 157,
   "id": "a4bdafb0",
   "metadata": {},
   "outputs": [
    {
     "data": {
      "text/plain": [
       "1.0    242\n",
       "2.0     96\n",
       "NaN     28\n",
       "3.0     22\n",
       "4.0      7\n",
       "Name: traveltime, dtype: int64"
      ]
     },
     "execution_count": 157,
     "metadata": {},
     "output_type": "execute_result"
    }
   ],
   "source": [
    "students.traveltime.value_counts(dropna=False)"
   ]
  },
  {
   "cell_type": "code",
   "execution_count": 158,
   "id": "c083d478",
   "metadata": {},
   "outputs": [
    {
     "name": "stdout",
     "output_type": "stream",
     "text": [
      "Пропусков 7.09%\n"
     ]
    }
   ],
   "source": [
    "percent_nan(students.traveltime)"
   ]
  },
  {
   "cell_type": "code",
   "execution_count": 159,
   "id": "09187711",
   "metadata": {},
   "outputs": [
    {
     "data": {
      "image/png": "[encoded data removed]",
      "text/plain": [
       "<Figure size 432x288 with 1 Axes>"
      ]
     },
     "metadata": {},
     "output_type": "display_data"
    }
   ],
   "source": [
    "plot_bar_sort(students.traveltime, 'Время в пути до школы')"
   ]
  },
  {
   "cell_type": "markdown",
   "id": "d2facf19",
   "metadata": {},
   "source": [
    "В основном все ученики живут в непосредственной близости от школы (менее 15 минут), что немного удивительно, учитывая то, что старшую школу выбирают обычно не по расстоянию от дома, а с учетом сильной специализации."
   ]
  },
  {
   "cell_type": "markdown",
   "id": "1c694a24",
   "metadata": {},
   "source": [
    "## studytime\n",
    "Время на учёбу помимо школы в неделю (1 - <2 часов, 2 - 2-5 часов, 3 - 5-10 часов, 4 - >10 часов)"
   ]
  },
  {
   "cell_type": "code",
   "execution_count": 160,
   "id": "ed498f34",
   "metadata": {},
   "outputs": [
    {
     "data": {
      "text/plain": [
       "2.0    194\n",
       "1.0    103\n",
       "3.0     64\n",
       "4.0     27\n",
       "NaN      7\n",
       "Name: studytime, dtype: int64"
      ]
     },
     "execution_count": 160,
     "metadata": {},
     "output_type": "execute_result"
    }
   ],
   "source": [
    "students.studytime.value_counts(dropna=False)"
   ]
  },
  {
   "cell_type": "code",
   "execution_count": 161,
   "id": "3032292f",
   "metadata": {},
   "outputs": [
    {
     "name": "stdout",
     "output_type": "stream",
     "text": [
      "Пропусков 1.77%\n"
     ]
    }
   ],
   "source": [
    "percent_nan(students.studytime)"
   ]
  },
  {
   "cell_type": "code",
   "execution_count": 162,
   "id": "7d979400",
   "metadata": {},
   "outputs": [
    {
     "data": {
      "image/png": "[encoded data removed]",
      "text/plain": [
       "<Figure size 432x288 with 1 Axes>"
      ]
     },
     "metadata": {},
     "output_type": "display_data"
    }
   ],
   "source": [
    "plot_bar_sort(students.studytime, 'Время на учебу')"
   ]
  },
  {
   "cell_type": "markdown",
   "id": "d510593a",
   "metadata": {},
   "source": [
    "На домашнее задание ученики тратят в основном 2-5 часов в неделю, что вполне ожидаемо."
   ]
  },
  {
   "cell_type": "markdown",
   "id": "4ff191e5",
   "metadata": {},
   "source": [
    "## failures\n",
    "Количество внеучебных неудач (n, если 1<=n<=3, иначе 0)"
   ]
  },
  {
   "cell_type": "code",
   "execution_count": 163,
   "id": "448fa400",
   "metadata": {},
   "outputs": [
    {
     "data": {
      "text/plain": [
       "0.0    293\n",
       "1.0     49\n",
       "NaN     22\n",
       "2.0     16\n",
       "3.0     15\n",
       "Name: failures, dtype: int64"
      ]
     },
     "execution_count": 163,
     "metadata": {},
     "output_type": "execute_result"
    }
   ],
   "source": [
    "students.failures.value_counts(dropna=False)"
   ]
  },
  {
   "cell_type": "code",
   "execution_count": 164,
   "id": "f2529fa9",
   "metadata": {},
   "outputs": [
    {
     "name": "stdout",
     "output_type": "stream",
     "text": [
      "Пропусков 5.57%\n"
     ]
    }
   ],
   "source": [
    "percent_nan(students.failures)"
   ]
  },
  {
   "cell_type": "code",
   "execution_count": 165,
   "id": "205c50b8",
   "metadata": {},
   "outputs": [
    {
     "data": {
      "image/png": "[encoded data removed]",
      "text/plain": [
       "<Figure size 432x288 with 1 Axes>"
      ]
     },
     "metadata": {},
     "output_type": "display_data"
    }
   ],
   "source": [
    "plot_bar_sort(students.failures, 'Количество внеучебных неудач')"
   ]
  },
  {
   "cell_type": "markdown",
   "id": "360603cf",
   "metadata": {},
   "source": [
    "Не очень понятно ,что именно имеется в виду под \"внеучебными неудачами\", но у большинства учащихся их нет."
   ]
  },
  {
   "cell_type": "markdown",
   "id": "151eed51",
   "metadata": {},
   "source": [
    "## schoolsup\n",
    "Дополнительная образовательная поддержка (yes или no)"
   ]
  },
  {
   "cell_type": "code",
   "execution_count": 166,
   "id": "b25e311e",
   "metadata": {},
   "outputs": [
    {
     "data": {
      "text/plain": [
       "no     335\n",
       "yes     51\n",
       "NaN      9\n",
       "Name: schoolsup, dtype: int64"
      ]
     },
     "execution_count": 166,
     "metadata": {},
     "output_type": "execute_result"
    }
   ],
   "source": [
    "students.schoolsup.value_counts(dropna=False)"
   ]
  },
  {
   "cell_type": "code",
   "execution_count": 167,
   "id": "23b85801",
   "metadata": {},
   "outputs": [
    {
     "name": "stdout",
     "output_type": "stream",
     "text": [
      "Пропусков 2.28%\n"
     ]
    }
   ],
   "source": [
    "percent_nan(students.schoolsup)"
   ]
  },
  {
   "cell_type": "code",
   "execution_count": 168,
   "id": "f7c49b19",
   "metadata": {},
   "outputs": [
    {
     "data": {
      "image/png": "[encoded data removed]",
      "text/plain": [
       "<Figure size 432x288 with 1 Axes>"
      ]
     },
     "metadata": {},
     "output_type": "display_data"
    }
   ],
   "source": [
    "plot_bar(students.schoolsup, 'Дополнительная образовательная поддержка')"
   ]
  },
  {
   "cell_type": "markdown",
   "id": "78f51f36",
   "metadata": {},
   "source": [
    "В основном, студенты справляются без дополнительной образовательной поддержки."
   ]
  },
  {
   "cell_type": "markdown",
   "id": "7de368a8",
   "metadata": {},
   "source": [
    "## famsup\n",
    "Семейная образовательная поддержка (yes или no)"
   ]
  },
  {
   "cell_type": "code",
   "execution_count": 90,
   "id": "8d9795ec",
   "metadata": {},
   "outputs": [
    {
     "data": {
      "text/plain": [
       "yes    219\n",
       "no     137\n",
       "NaN     39\n",
       "Name: famsup, dtype: int64"
      ]
     },
     "execution_count": 90,
     "metadata": {},
     "output_type": "execute_result"
    }
   ],
   "source": [
    "students.famsup.value_counts(dropna=False)"
   ]
  },
  {
   "cell_type": "code",
   "execution_count": 170,
   "id": "380d02ca",
   "metadata": {},
   "outputs": [
    {
     "name": "stdout",
     "output_type": "stream",
     "text": [
      "Пропусков 9.87%\n"
     ]
    }
   ],
   "source": [
    "percent_nan(students.famsup)"
   ]
  },
  {
   "cell_type": "markdown",
   "id": "18023692",
   "metadata": {},
   "source": [
    "Пропусков достаточно много, заменим их модальным значением."
   ]
  },
  {
   "cell_type": "code",
   "execution_count": 91,
   "id": "a88e0032",
   "metadata": {},
   "outputs": [],
   "source": [
    "students.famsup = fillna_mode(students.famsup)"
   ]
  },
  {
   "cell_type": "code",
   "execution_count": 92,
   "id": "54edb940",
   "metadata": {},
   "outputs": [
    {
     "data": {
      "text/plain": [
       "yes    258\n",
       "no     137\n",
       "Name: famsup, dtype: int64"
      ]
     },
     "execution_count": 92,
     "metadata": {},
     "output_type": "execute_result"
    }
   ],
   "source": [
    "students.famsup.value_counts(dropna=False)"
   ]
  },
  {
   "cell_type": "code",
   "execution_count": 32,
   "id": "27b6bd75",
   "metadata": {},
   "outputs": [
    {
     "data": {
      "image/png": "[encoded data removed]",
      "text/plain": [
       "<Figure size 432x288 with 1 Axes>"
      ]
     },
     "metadata": {},
     "output_type": "display_data"
    }
   ],
   "source": [
    "plot_bar(students.famsup, 'Семейная образовательная поддержка')"
   ]
  },
  {
   "cell_type": "markdown",
   "id": "52d2dde1",
   "metadata": {},
   "source": [
    "Здесь напротив, большинство студентов имеют семейную образоватеьную поддержку."
   ]
  },
  {
   "cell_type": "markdown",
   "id": "3c4d1637",
   "metadata": {},
   "source": [
    "Проанализируем, есть ли связь между дополнительной школьной и семейной образовательной поддержкой (возможно, при наличии одной, другая не нужна и наоборот), чтобы связать их при необходимости в один признак."
   ]
  },
  {
   "cell_type": "code",
   "execution_count": 105,
   "id": "59e01f1b",
   "metadata": {},
   "outputs": [
    {
     "data": {
      "text/plain": [
       "schoolsup  famsup\n",
       "no         yes       213\n",
       "           no        122\n",
       "yes        yes        40\n",
       "           no         11\n",
       "Name: famsup, dtype: int64"
      ]
     },
     "execution_count": 105,
     "metadata": {},
     "output_type": "execute_result"
    }
   ],
   "source": [
    "students.groupby(by = ['schoolsup'])['famsup'].value_counts()"
   ]
  },
  {
   "cell_type": "markdown",
   "id": "ba2984c5",
   "metadata": {},
   "source": [
    "Всего 11 человек имеет школьную дополнительную поддержку при отсутствии семейной, очень большое количество при этом дополнительной школьной не имеет, поэтому объединять эти признаки в один не имеет смысла."
   ]
  },
  {
   "cell_type": "markdown",
   "id": "67792fe9",
   "metadata": {},
   "source": [
    "## paid\n",
    "Дополнительные платные занятия по математике (yes или no)"
   ]
  },
  {
   "cell_type": "code",
   "execution_count": 93,
   "id": "3d8b1fe4",
   "metadata": {},
   "outputs": [
    {
     "data": {
      "text/plain": [
       "no     200\n",
       "yes    155\n",
       "NaN     40\n",
       "Name: paid, dtype: int64"
      ]
     },
     "execution_count": 93,
     "metadata": {},
     "output_type": "execute_result"
    }
   ],
   "source": [
    "students.paid.value_counts(dropna=False)"
   ]
  },
  {
   "cell_type": "code",
   "execution_count": 173,
   "id": "75adf581",
   "metadata": {},
   "outputs": [
    {
     "name": "stdout",
     "output_type": "stream",
     "text": [
      "Пропусков 10.13%\n"
     ]
    }
   ],
   "source": [
    "percent_nan(students.paid)"
   ]
  },
  {
   "cell_type": "markdown",
   "id": "45e7e4b9",
   "metadata": {},
   "source": [
    "Пропусков достаточно много, заменим их модальным значением."
   ]
  },
  {
   "cell_type": "code",
   "execution_count": 94,
   "id": "0d822e97",
   "metadata": {},
   "outputs": [],
   "source": [
    "students.paid = fillna_mode(students.paid)"
   ]
  },
  {
   "cell_type": "code",
   "execution_count": 95,
   "id": "9ae88007",
   "metadata": {},
   "outputs": [
    {
     "data": {
      "text/plain": [
       "no     240\n",
       "yes    155\n",
       "Name: paid, dtype: int64"
      ]
     },
     "execution_count": 95,
     "metadata": {},
     "output_type": "execute_result"
    }
   ],
   "source": [
    "students.paid.value_counts(dropna=False)"
   ]
  },
  {
   "cell_type": "code",
   "execution_count": 50,
   "id": "b97885eb",
   "metadata": {},
   "outputs": [
    {
     "data": {
      "image/png": "[encoded data removed]",
      "text/plain": [
       "<Figure size 432x288 with 1 Axes>"
      ]
     },
     "metadata": {},
     "output_type": "display_data"
    }
   ],
   "source": [
    "plot_bar(students.paid, 'Дополнительные платные занятия по математике')"
   ]
  },
  {
   "cell_type": "markdown",
   "id": "c393fed6",
   "metadata": {},
   "source": [
    "Большинство студентов не имеет платных дополнительных уроков по математике."
   ]
  },
  {
   "cell_type": "markdown",
   "id": "c36909d6",
   "metadata": {},
   "source": [
    "## activities\n",
    "Дополнительные внеучебные занятия (yes или no)"
   ]
  },
  {
   "cell_type": "code",
   "execution_count": 175,
   "id": "aa6bd34a",
   "metadata": {},
   "outputs": [
    {
     "data": {
      "text/plain": [
       "yes    195\n",
       "no     186\n",
       "NaN     14\n",
       "Name: activities, dtype: int64"
      ]
     },
     "execution_count": 175,
     "metadata": {},
     "output_type": "execute_result"
    }
   ],
   "source": [
    "students.activities.value_counts(dropna=False)"
   ]
  },
  {
   "cell_type": "code",
   "execution_count": 176,
   "id": "3e7a6e1f",
   "metadata": {},
   "outputs": [
    {
     "name": "stdout",
     "output_type": "stream",
     "text": [
      "Пропусков 3.54%\n"
     ]
    }
   ],
   "source": [
    "percent_nan(students.activities)"
   ]
  },
  {
   "cell_type": "code",
   "execution_count": 177,
   "id": "eab8b399",
   "metadata": {},
   "outputs": [
    {
     "data": {
      "image/png": "[encoded data removed]",
      "text/plain": [
       "<Figure size 432x288 with 1 Axes>"
      ]
     },
     "metadata": {},
     "output_type": "display_data"
    }
   ],
   "source": [
    "plot_bar(students.activities, 'Дополнительные внеучебные занятия')"
   ]
  },
  {
   "cell_type": "markdown",
   "id": "45247886",
   "metadata": {},
   "source": [
    "## nursery\n",
    "Посещал детский сад (yes или no)"
   ]
  },
  {
   "cell_type": "code",
   "execution_count": 178,
   "id": "fc5e5218",
   "metadata": {},
   "outputs": [
    {
     "data": {
      "text/plain": [
       "yes    300\n",
       "no      79\n",
       "NaN     16\n",
       "Name: nursery, dtype: int64"
      ]
     },
     "execution_count": 178,
     "metadata": {},
     "output_type": "execute_result"
    }
   ],
   "source": [
    "students.nursery.value_counts(dropna=False)"
   ]
  },
  {
   "cell_type": "code",
   "execution_count": 179,
   "id": "c5fb73c6",
   "metadata": {},
   "outputs": [
    {
     "name": "stdout",
     "output_type": "stream",
     "text": [
      "Пропусков 4.05%\n"
     ]
    }
   ],
   "source": [
    "percent_nan(students.nursery)"
   ]
  },
  {
   "cell_type": "code",
   "execution_count": 180,
   "id": "c7657f85",
   "metadata": {},
   "outputs": [
    {
     "data": {
      "image/png": "[encoded data removed]",
      "text/plain": [
       "<Figure size 432x288 with 1 Axes>"
      ]
     },
     "metadata": {},
     "output_type": "display_data"
    }
   ],
   "source": [
    "plot_bar(students.nursery, 'Посещал детский сад')"
   ]
  },
  {
   "cell_type": "markdown",
   "id": "132df785",
   "metadata": {},
   "source": [
    "## higher\n",
    "Хочет получить высшее образование (yes или no)"
   ]
  },
  {
   "cell_type": "code",
   "execution_count": 181,
   "id": "b9db3241",
   "metadata": {},
   "outputs": [
    {
     "data": {
      "text/plain": [
       "yes    356\n",
       "NaN     20\n",
       "no      19\n",
       "Name: higher, dtype: int64"
      ]
     },
     "execution_count": 181,
     "metadata": {},
     "output_type": "execute_result"
    }
   ],
   "source": [
    "students.higher.value_counts(dropna=False)"
   ]
  },
  {
   "cell_type": "code",
   "execution_count": 182,
   "id": "dfcb3a01",
   "metadata": {},
   "outputs": [
    {
     "name": "stdout",
     "output_type": "stream",
     "text": [
      "Пропусков 5.06%\n"
     ]
    }
   ],
   "source": [
    "percent_nan(students.higher)"
   ]
  },
  {
   "cell_type": "code",
   "execution_count": 183,
   "id": "9e529744",
   "metadata": {},
   "outputs": [
    {
     "data": {
      "image/png": "[encoded data removed]",
      "text/plain": [
       "<Figure size 432x288 with 1 Axes>"
      ]
     },
     "metadata": {},
     "output_type": "display_data"
    }
   ],
   "source": [
    "plot_bar(students.higher, 'Хочет получить высшее образование')"
   ]
  },
  {
   "cell_type": "markdown",
   "id": "d10793a1",
   "metadata": {},
   "source": [
    "## internet\n",
    "Наличие интернета дома (yes или no)"
   ]
  },
  {
   "cell_type": "code",
   "execution_count": 184,
   "id": "e7c4f964",
   "metadata": {},
   "outputs": [
    {
     "data": {
      "text/plain": [
       "yes    305\n",
       "no      56\n",
       "NaN     34\n",
       "Name: internet, dtype: int64"
      ]
     },
     "execution_count": 184,
     "metadata": {},
     "output_type": "execute_result"
    }
   ],
   "source": [
    "students.internet.value_counts(dropna=False)"
   ]
  },
  {
   "cell_type": "code",
   "execution_count": 185,
   "id": "23d33aa5",
   "metadata": {},
   "outputs": [
    {
     "name": "stdout",
     "output_type": "stream",
     "text": [
      "Пропусков 8.61%\n"
     ]
    }
   ],
   "source": [
    "percent_nan(students.internet)"
   ]
  },
  {
   "cell_type": "code",
   "execution_count": 186,
   "id": "cde74b93",
   "metadata": {},
   "outputs": [
    {
     "data": {
      "image/png": "[encoded data removed]",
      "text/plain": [
       "<Figure size 432x288 with 1 Axes>"
      ]
     },
     "metadata": {},
     "output_type": "display_data"
    }
   ],
   "source": [
    "plot_bar(students.internet, 'Наличие дома Интернета')"
   ]
  },
  {
   "cell_type": "markdown",
   "id": "e3547d2e",
   "metadata": {},
   "source": [
    "## romantic\n",
    "В романтических отношениях (yes или no)"
   ]
  },
  {
   "cell_type": "code",
   "execution_count": 187,
   "id": "14fb3f2b",
   "metadata": {},
   "outputs": [
    {
     "data": {
      "text/plain": [
       "no     240\n",
       "yes    124\n",
       "NaN     31\n",
       "Name: romantic, dtype: int64"
      ]
     },
     "execution_count": 187,
     "metadata": {},
     "output_type": "execute_result"
    }
   ],
   "source": [
    "students.romantic.value_counts(dropna=False)"
   ]
  },
  {
   "cell_type": "code",
   "execution_count": 188,
   "id": "a81b05f8",
   "metadata": {},
   "outputs": [
    {
     "name": "stdout",
     "output_type": "stream",
     "text": [
      "Пропусков 7.85%\n"
     ]
    }
   ],
   "source": [
    "percent_nan(students.romantic)"
   ]
  },
  {
   "cell_type": "code",
   "execution_count": 189,
   "id": "32bdf190",
   "metadata": {},
   "outputs": [
    {
     "data": {
      "image/png": "[encoded data removed]",
      "text/plain": [
       "<Figure size 432x288 with 1 Axes>"
      ]
     },
     "metadata": {},
     "output_type": "display_data"
    }
   ],
   "source": [
    "plot_bar(students.romantic, 'В романтических отношениях')"
   ]
  },
  {
   "cell_type": "markdown",
   "id": "4f14ccfc",
   "metadata": {},
   "source": [
    "## famrel\n",
    "Семейные отношения (от 1 - очень плохо до 5 - очень хорошо)"
   ]
  },
  {
   "cell_type": "code",
   "execution_count": 190,
   "id": "140d4a69",
   "metadata": {},
   "outputs": [
    {
     "data": {
      "text/plain": [
       " 4.0    182\n",
       " 5.0     99\n",
       " 3.0     62\n",
       " NaN     27\n",
       " 2.0     17\n",
       " 1.0      7\n",
       "-1.0      1\n",
       "Name: famrel, dtype: int64"
      ]
     },
     "execution_count": 190,
     "metadata": {},
     "output_type": "execute_result"
    }
   ],
   "source": [
    "students.famrel.value_counts(dropna=False)"
   ]
  },
  {
   "cell_type": "markdown",
   "id": "685fd3d8",
   "metadata": {},
   "source": [
    "Есть одно неожиданное отрицательное значение (-1). Это может быть как опечаткой, так и, например, крайне негативной оценкой семейных отношений. Заменим на положительное число (1)."
   ]
  },
  {
   "cell_type": "code",
   "execution_count": 60,
   "id": "b420b547",
   "metadata": {},
   "outputs": [
    {
     "data": {
      "text/plain": [
       "4.0    182\n",
       "5.0     99\n",
       "3.0     62\n",
       "NaN     27\n",
       "2.0     17\n",
       "1.0      8\n",
       "Name: famrel, dtype: int64"
      ]
     },
     "execution_count": 60,
     "metadata": {},
     "output_type": "execute_result"
    }
   ],
   "source": [
    "students.loc[students.famrel == -1.0, 'famrel'] = 1.0\n",
    "students.famrel.value_counts(dropna=False)"
   ]
  },
  {
   "cell_type": "code",
   "execution_count": 192,
   "id": "4d0a8935",
   "metadata": {},
   "outputs": [
    {
     "name": "stdout",
     "output_type": "stream",
     "text": [
      "Пропусков 6.84%\n"
     ]
    }
   ],
   "source": [
    "percent_nan(students.famrel)"
   ]
  },
  {
   "cell_type": "code",
   "execution_count": 193,
   "id": "71d65d3a",
   "metadata": {},
   "outputs": [
    {
     "data": {
      "image/png": "[encoded data removed]",
      "text/plain": [
       "<Figure size 432x288 with 1 Axes>"
      ]
     },
     "metadata": {},
     "output_type": "display_data"
    }
   ],
   "source": [
    "plot_bar_sort(students.famrel, 'Семейные отношения')"
   ]
  },
  {
   "cell_type": "markdown",
   "id": "507c8675",
   "metadata": {},
   "source": [
    "## freetime\n",
    "Свободное время после школы (от 1 - очень мало до 5 - очень много)"
   ]
  },
  {
   "cell_type": "code",
   "execution_count": 194,
   "id": "7f7b82fc",
   "metadata": {},
   "outputs": [
    {
     "data": {
      "text/plain": [
       "3.0    153\n",
       "4.0    112\n",
       "2.0     63\n",
       "5.0     38\n",
       "1.0     18\n",
       "NaN     11\n",
       "Name: freetime, dtype: int64"
      ]
     },
     "execution_count": 194,
     "metadata": {},
     "output_type": "execute_result"
    }
   ],
   "source": [
    "students.freetime.value_counts(dropna=False)"
   ]
  },
  {
   "cell_type": "code",
   "execution_count": 195,
   "id": "1aaa7994",
   "metadata": {},
   "outputs": [
    {
     "name": "stdout",
     "output_type": "stream",
     "text": [
      "Пропусков 2.78%\n"
     ]
    }
   ],
   "source": [
    "percent_nan(students.freetime)"
   ]
  },
  {
   "cell_type": "code",
   "execution_count": 196,
   "id": "3927d50f",
   "metadata": {},
   "outputs": [
    {
     "data": {
      "image/png": "[encoded data removed]",
      "text/plain": [
       "<Figure size 432x288 with 1 Axes>"
      ]
     },
     "metadata": {},
     "output_type": "display_data"
    }
   ],
   "source": [
    "plot_bar_sort(students.freetime, 'Свободное время после школы')"
   ]
  },
  {
   "cell_type": "markdown",
   "id": "0eb4d5c6",
   "metadata": {},
   "source": [
    "## goout\n",
    "Проведение времени с друзьями (от 1 - очень мало до 5 - очень много)"
   ]
  },
  {
   "cell_type": "code",
   "execution_count": 197,
   "id": "8ccaa966",
   "metadata": {},
   "outputs": [
    {
     "data": {
      "text/plain": [
       "3.0    127\n",
       "2.0    101\n",
       "4.0     84\n",
       "5.0     52\n",
       "1.0     23\n",
       "NaN      8\n",
       "Name: goout, dtype: int64"
      ]
     },
     "execution_count": 197,
     "metadata": {},
     "output_type": "execute_result"
    }
   ],
   "source": [
    "students.goout.value_counts(dropna=False)"
   ]
  },
  {
   "cell_type": "code",
   "execution_count": 198,
   "id": "b060d9a0",
   "metadata": {},
   "outputs": [
    {
     "name": "stdout",
     "output_type": "stream",
     "text": [
      "Пропусков 2.03%\n"
     ]
    }
   ],
   "source": [
    "percent_nan(students.goout)"
   ]
  },
  {
   "cell_type": "code",
   "execution_count": 199,
   "id": "903aea1d",
   "metadata": {},
   "outputs": [
    {
     "data": {
      "image/png": "[encoded data removed]",
      "text/plain": [
       "<Figure size 432x288 with 1 Axes>"
      ]
     },
     "metadata": {},
     "output_type": "display_data"
    }
   ],
   "source": [
    "plot_bar_sort(students.goout, 'Проведение времени с друзьями')"
   ]
  },
  {
   "cell_type": "markdown",
   "id": "1783e184",
   "metadata": {},
   "source": [
    "## health\n",
    "Текущее состояние здоровья (от 1 - очень плохо до 5 - очень хорошо)"
   ]
  },
  {
   "cell_type": "code",
   "execution_count": 200,
   "id": "b7ae7e9a",
   "metadata": {},
   "outputs": [
    {
     "data": {
      "text/plain": [
       "5.0    138\n",
       "3.0     89\n",
       "4.0     63\n",
       "1.0     47\n",
       "2.0     43\n",
       "NaN     15\n",
       "Name: health, dtype: int64"
      ]
     },
     "execution_count": 200,
     "metadata": {},
     "output_type": "execute_result"
    }
   ],
   "source": [
    "students.health.value_counts(dropna=False)"
   ]
  },
  {
   "cell_type": "code",
   "execution_count": 201,
   "id": "9521cb63",
   "metadata": {},
   "outputs": [
    {
     "name": "stdout",
     "output_type": "stream",
     "text": [
      "Пропусков 2.03%\n"
     ]
    }
   ],
   "source": [
    "percent_nan(students.goout)"
   ]
  },
  {
   "cell_type": "code",
   "execution_count": 202,
   "id": "91696147",
   "metadata": {},
   "outputs": [
    {
     "data": {
      "image/png": "[encoded data removed]",
      "text/plain": [
       "<Figure size 432x288 with 1 Axes>"
      ]
     },
     "metadata": {},
     "output_type": "display_data"
    }
   ],
   "source": [
    "plot_bar_sort(students.goout, 'Текущее состояние здоровья')"
   ]
  },
  {
   "cell_type": "markdown",
   "id": "3fd7282f",
   "metadata": {},
   "source": [
    "## absences\n",
    "Количество пропущенных занятий"
   ]
  },
  {
   "cell_type": "code",
   "execution_count": 203,
   "id": "c1b90df4",
   "metadata": {},
   "outputs": [
    {
     "data": {
      "text/plain": [
       "0.0      111\n",
       "2.0       60\n",
       "4.0       53\n",
       "6.0       31\n",
       "8.0       21\n",
       "10.0      17\n",
       "12.0      12\n",
       "14.0      12\n",
       "NaN       12\n",
       "3.0        8\n",
       "16.0       7\n",
       "7.0        6\n",
       "5.0        5\n",
       "18.0       5\n",
       "20.0       4\n",
       "1.0        3\n",
       "22.0       3\n",
       "9.0        3\n",
       "13.0       2\n",
       "11.0       2\n",
       "15.0       2\n",
       "56.0       1\n",
       "24.0       1\n",
       "23.0       1\n",
       "25.0       1\n",
       "19.0       1\n",
       "17.0       1\n",
       "75.0       1\n",
       "21.0       1\n",
       "212.0      1\n",
       "26.0       1\n",
       "30.0       1\n",
       "40.0       1\n",
       "28.0       1\n",
       "385.0      1\n",
       "38.0       1\n",
       "54.0       1\n",
       "Name: absences, dtype: int64"
      ]
     },
     "execution_count": 203,
     "metadata": {},
     "output_type": "execute_result"
    }
   ],
   "source": [
    "students.absences.value_counts(dropna=False)"
   ]
  },
  {
   "cell_type": "code",
   "execution_count": 204,
   "id": "7ef4468a",
   "metadata": {},
   "outputs": [
    {
     "name": "stdout",
     "output_type": "stream",
     "text": [
      "Пропусков 3.04%\n"
     ]
    }
   ],
   "source": [
    "percent_nan(students.absences)"
   ]
  },
  {
   "cell_type": "code",
   "execution_count": 205,
   "id": "0e7022b1",
   "metadata": {},
   "outputs": [
    {
     "data": {
      "image/png": "[encoded data removed]",
      "text/plain": [
       "<Figure size 432x288 with 1 Axes>"
      ]
     },
     "metadata": {},
     "output_type": "display_data"
    }
   ],
   "source": [
    "plot_bar_sort(students.absences, 'Количество пропущенных занятий')"
   ]
  },
  {
   "cell_type": "markdown",
   "id": "f3b24aae",
   "metadata": {},
   "source": [
    "Видим, что есть большой \"хвост\" справа. Расчитаем границы выбросов, чтобы устранить их."
   ]
  },
  {
   "cell_type": "code",
   "execution_count": 61,
   "id": "61cb5bd0",
   "metadata": {},
   "outputs": [
    {
     "name": "stdout",
     "output_type": "stream",
     "text": [
      "25-й перцентиль: 0.0, 75-й перцентиль: 8.0, IQR: 8.0,  Границы выбросов: [-12.0, 20.0].\n"
     ]
    }
   ],
   "source": [
    "IQR = students.absences.quantile(0.75) - students.absences.quantile(0.25)\n",
    "perc25 = students.absences.quantile(0.25)\n",
    "perc75 = students.absences.quantile(0.75)\n",
    " \n",
    "print(\n",
    "'25-й перцентиль: {},'.format(perc25),\n",
    "'75-й перцентиль: {},'.format(perc75),\n",
    "\"IQR: {}, \".format(IQR),\n",
    "\"Границы выбросов: [{f}, {l}].\".format(f=perc25 - 1.5*IQR, l=perc75 + 1.5*IQR))\n",
    "\n"
   ]
  },
  {
   "cell_type": "markdown",
   "id": "e25391c1",
   "metadata": {},
   "source": [
    "Значит, допустимые значения от 0 до 20. Остальное считаем выбросами и убираем."
   ]
  },
  {
   "cell_type": "code",
   "execution_count": 62,
   "id": "ab0a546c",
   "metadata": {},
   "outputs": [],
   "source": [
    "students = students.drop(students[students['absences'] > 20].index, axis = 0)"
   ]
  },
  {
   "cell_type": "code",
   "execution_count": 63,
   "id": "1af4a93e",
   "metadata": {},
   "outputs": [
    {
     "data": {
      "image/png": "[encoded data removed]",
      "text/plain": [
       "<Figure size 432x288 with 1 Axes>"
      ]
     },
     "metadata": {},
     "output_type": "display_data"
    }
   ],
   "source": [
    "plot_bar_sort(students.absences, 'Количество пропущенных занятий')"
   ]
  },
  {
   "cell_type": "markdown",
   "id": "7000daa7",
   "metadata": {},
   "source": [
    "Теперь данные выглядят значительно лучше. Видим, что преобладает четное количество пропусков, скорее всего это связано с тем, что в старших классах уроки обычно сдвоенные."
   ]
  },
  {
   "cell_type": "markdown",
   "id": "08b2d518",
   "metadata": {},
   "source": [
    "## score\n",
    "Баллы по госэкзамену по математике"
   ]
  },
  {
   "cell_type": "code",
   "execution_count": 209,
   "id": "14836e1e",
   "metadata": {},
   "outputs": [
    {
     "data": {
      "text/plain": [
       "50.0     52\n",
       "55.0     42\n",
       "0.0      37\n",
       "75.0     33\n",
       "60.0     30\n",
       "70.0     27\n",
       "65.0     27\n",
       "40.0     27\n",
       "45.0     23\n",
       "80.0     16\n",
       "30.0     12\n",
       "90.0     10\n",
       "35.0      8\n",
       "25.0      7\n",
       "NaN       6\n",
       "95.0      5\n",
       "85.0      5\n",
       "100.0     1\n",
       "Name: score, dtype: int64"
      ]
     },
     "execution_count": 209,
     "metadata": {},
     "output_type": "execute_result"
    }
   ],
   "source": [
    "students.score.value_counts(dropna=False)"
   ]
  },
  {
   "cell_type": "code",
   "execution_count": 210,
   "id": "3de82e13",
   "metadata": {},
   "outputs": [
    {
     "name": "stdout",
     "output_type": "stream",
     "text": [
      "Пропусков 1.63%\n"
     ]
    }
   ],
   "source": [
    "percent_nan(students.score)"
   ]
  },
  {
   "cell_type": "markdown",
   "id": "b3a0856d",
   "metadata": {},
   "source": [
    "Поскольку переменная score является целевой, пропусков в ней быть не должно. Удалим их."
   ]
  },
  {
   "cell_type": "code",
   "execution_count": 64,
   "id": "85e199c7",
   "metadata": {},
   "outputs": [
    {
     "data": {
      "text/plain": [
       "50.0     54\n",
       "55.0     42\n",
       "0.0      37\n",
       "75.0     33\n",
       "60.0     31\n",
       "65.0     30\n",
       "40.0     28\n",
       "70.0     27\n",
       "45.0     23\n",
       "80.0     16\n",
       "30.0     14\n",
       "90.0     10\n",
       "35.0      9\n",
       "25.0      7\n",
       "95.0      5\n",
       "85.0      5\n",
       "100.0     1\n",
       "Name: score, dtype: int64"
      ]
     },
     "execution_count": 64,
     "metadata": {},
     "output_type": "execute_result"
    }
   ],
   "source": [
    "students = students.dropna(axis=0, how='any', subset=['score'])\n",
    "students.score.value_counts(dropna=False)"
   ]
  },
  {
   "cell_type": "code",
   "execution_count": 212,
   "id": "766cc48e",
   "metadata": {},
   "outputs": [
    {
     "data": {
      "image/png": "[encoded data removed]",
      "text/plain": [
       "<Figure size 432x288 with 1 Axes>"
      ]
     },
     "metadata": {},
     "output_type": "display_data"
    }
   ],
   "source": [
    "plot_bar_sort(students.score, 'Балл на экзамене по математике')"
   ]
  },
  {
   "cell_type": "markdown",
   "id": "c4f8aedb",
   "metadata": {},
   "source": [
    "Видим большое количество нулевых баллов. Это может быть как ошибкой в данных, так и провалом на экзамене. Однако, с учетом того, что 25 - первый положительный балл, скорее всего, это был необходимый порог зачета, и студентам, набравшим баллы ниже 25, проставлялся 0. Поэтому у распределения и получился нетипичный для нормального пик в начале. В связи с этим, не будем исключать из датафрейма студентов, получивших 0 баллов на экзамене."
   ]
  },
  {
   "cell_type": "markdown",
   "id": "30fe0ff1",
   "metadata": {},
   "source": [
    "Построим гистограмму распределения нашего целевого признака."
   ]
  },
  {
   "cell_type": "code",
   "execution_count": 65,
   "id": "ba6d1146",
   "metadata": {},
   "outputs": [
    {
     "name": "stderr",
     "output_type": "stream",
     "text": [
      "/Users/Irina/opt/anaconda3/lib/python3.8/site-packages/seaborn/distributions.py:2557: FutureWarning: `distplot` is a deprecated function and will be removed in a future version. Please adapt your code to use either `displot` (a figure-level function with similar flexibility) or `histplot` (an axes-level function for histograms).\n",
      "  warnings.warn(msg, FutureWarning)\n"
     ]
    },
    {
     "data": {
      "text/plain": [
       "<AxesSubplot:xlabel='score', ylabel='Density'>"
      ]
     },
     "execution_count": 65,
     "metadata": {},
     "output_type": "execute_result"
    },
    {
     "data": {
      "image/png": "[encoded data removed]",
      "text/plain": [
       "<Figure size 432x288 with 1 Axes>"
      ]
     },
     "metadata": {},
     "output_type": "display_data"
    }
   ],
   "source": [
    "sns.distplot(students['score'], bins=20)"
   ]
  },
  {
   "cell_type": "markdown",
   "id": "6a1aa38d",
   "metadata": {},
   "source": [
    "В целом распределение близко к нормальному, если не обращать внимание на количество нулевых баллов. Но как говорилось выше, скорее всего, объединили всех учеников, чьи баллы были \"размазаны\" между 0 и 25."
   ]
  },
  {
   "cell_type": "code",
   "execution_count": 217,
   "id": "74212245",
   "metadata": {},
   "outputs": [
    {
     "data": {
      "text/plain": [
       "count    325.000000\n",
       "mean      58.276923\n",
       "std       15.975007\n",
       "min       25.000000\n",
       "25%       50.000000\n",
       "50%       55.000000\n",
       "75%       70.000000\n",
       "max      100.000000\n",
       "Name: score, dtype: float64"
      ]
     },
     "execution_count": 217,
     "metadata": {},
     "output_type": "execute_result"
    }
   ],
   "source": [
    "students.score.describe()"
   ]
  },
  {
   "cell_type": "markdown",
   "id": "3518659f",
   "metadata": {},
   "source": [
    "Очистку данных мы закончили. Теперь можно приступать непосредственно к анализу."
   ]
  },
  {
   "cell_type": "markdown",
   "id": "81ddb698",
   "metadata": {},
   "source": [
    "## Анализ количественных переменных."
   ]
  },
  {
   "cell_type": "code",
   "execution_count": 137,
   "id": "908ee32d",
   "metadata": {},
   "outputs": [
    {
     "data": {
      "text/html": [
       "<div>\n",
       "<style scoped>\n",
       "    .dataframe tbody tr th:only-of-type {\n",
       "        vertical-align: middle;\n",
       "    }\n",
       "\n",
       "    .dataframe tbody tr th {\n",
       "        vertical-align: top;\n",
       "    }\n",
       "\n",
       "    .dataframe thead th {\n",
       "        text-align: right;\n",
       "    }\n",
       "</style>\n",
       "<table border=\"1\" class=\"dataframe\">\n",
       "  <thead>\n",
       "    <tr style=\"text-align: right;\">\n",
       "      <th></th>\n",
       "      <th>age</th>\n",
       "      <th>Medu</th>\n",
       "      <th>Fedu</th>\n",
       "      <th>traveltime</th>\n",
       "      <th>studytime</th>\n",
       "      <th>failures</th>\n",
       "      <th>studytime, granular</th>\n",
       "      <th>famrel</th>\n",
       "      <th>freetime</th>\n",
       "      <th>goout</th>\n",
       "      <th>health</th>\n",
       "      <th>absences</th>\n",
       "      <th>score</th>\n",
       "    </tr>\n",
       "  </thead>\n",
       "  <tbody>\n",
       "    <tr>\n",
       "      <th>age</th>\n",
       "      <td>1.000000</td>\n",
       "      <td>-0.156675</td>\n",
       "      <td>-0.164225</td>\n",
       "      <td>0.069424</td>\n",
       "      <td>-0.014416</td>\n",
       "      <td>0.181867</td>\n",
       "      <td>0.014416</td>\n",
       "      <td>0.055019</td>\n",
       "      <td>0.035454</td>\n",
       "      <td>0.143955</td>\n",
       "      <td>-0.051932</td>\n",
       "      <td>0.136129</td>\n",
       "      <td>-0.171702</td>\n",
       "    </tr>\n",
       "    <tr>\n",
       "      <th>Medu</th>\n",
       "      <td>-0.156675</td>\n",
       "      <td>1.000000</td>\n",
       "      <td>0.616067</td>\n",
       "      <td>-0.168478</td>\n",
       "      <td>0.101859</td>\n",
       "      <td>-0.251999</td>\n",
       "      <td>-0.101859</td>\n",
       "      <td>-0.004308</td>\n",
       "      <td>0.067942</td>\n",
       "      <td>0.052201</td>\n",
       "      <td>-0.045427</td>\n",
       "      <td>0.118103</td>\n",
       "      <td>0.218342</td>\n",
       "    </tr>\n",
       "    <tr>\n",
       "      <th>Fedu</th>\n",
       "      <td>-0.164225</td>\n",
       "      <td>0.616067</td>\n",
       "      <td>1.000000</td>\n",
       "      <td>-0.131311</td>\n",
       "      <td>0.024650</td>\n",
       "      <td>-0.300482</td>\n",
       "      <td>-0.024650</td>\n",
       "      <td>-0.014476</td>\n",
       "      <td>0.013413</td>\n",
       "      <td>0.025156</td>\n",
       "      <td>0.014250</td>\n",
       "      <td>-0.003954</td>\n",
       "      <td>0.130489</td>\n",
       "    </tr>\n",
       "    <tr>\n",
       "      <th>traveltime</th>\n",
       "      <td>0.069424</td>\n",
       "      <td>-0.168478</td>\n",
       "      <td>-0.131311</td>\n",
       "      <td>1.000000</td>\n",
       "      <td>-0.104515</td>\n",
       "      <td>0.056915</td>\n",
       "      <td>0.104515</td>\n",
       "      <td>-0.022464</td>\n",
       "      <td>-0.003707</td>\n",
       "      <td>0.033367</td>\n",
       "      <td>-0.007213</td>\n",
       "      <td>-0.063166</td>\n",
       "      <td>-0.071046</td>\n",
       "    </tr>\n",
       "    <tr>\n",
       "      <th>studytime</th>\n",
       "      <td>-0.014416</td>\n",
       "      <td>0.101859</td>\n",
       "      <td>0.024650</td>\n",
       "      <td>-0.104515</td>\n",
       "      <td>1.000000</td>\n",
       "      <td>-0.192545</td>\n",
       "      <td>-1.000000</td>\n",
       "      <td>0.038749</td>\n",
       "      <td>-0.129344</td>\n",
       "      <td>-0.044204</td>\n",
       "      <td>-0.082259</td>\n",
       "      <td>-0.037688</td>\n",
       "      <td>0.121601</td>\n",
       "    </tr>\n",
       "    <tr>\n",
       "      <th>failures</th>\n",
       "      <td>0.181867</td>\n",
       "      <td>-0.251999</td>\n",
       "      <td>-0.300482</td>\n",
       "      <td>0.056915</td>\n",
       "      <td>-0.192545</td>\n",
       "      <td>1.000000</td>\n",
       "      <td>0.192545</td>\n",
       "      <td>-0.028048</td>\n",
       "      <td>0.080040</td>\n",
       "      <td>0.081687</td>\n",
       "      <td>0.105785</td>\n",
       "      <td>0.075238</td>\n",
       "      <td>-0.353602</td>\n",
       "    </tr>\n",
       "    <tr>\n",
       "      <th>studytime, granular</th>\n",
       "      <td>0.014416</td>\n",
       "      <td>-0.101859</td>\n",
       "      <td>-0.024650</td>\n",
       "      <td>0.104515</td>\n",
       "      <td>-1.000000</td>\n",
       "      <td>0.192545</td>\n",
       "      <td>1.000000</td>\n",
       "      <td>-0.038749</td>\n",
       "      <td>0.129344</td>\n",
       "      <td>0.044204</td>\n",
       "      <td>0.082259</td>\n",
       "      <td>0.037688</td>\n",
       "      <td>-0.121601</td>\n",
       "    </tr>\n",
       "    <tr>\n",
       "      <th>famrel</th>\n",
       "      <td>0.055019</td>\n",
       "      <td>-0.004308</td>\n",
       "      <td>-0.014476</td>\n",
       "      <td>-0.022464</td>\n",
       "      <td>0.038749</td>\n",
       "      <td>-0.028048</td>\n",
       "      <td>-0.038749</td>\n",
       "      <td>1.000000</td>\n",
       "      <td>0.178120</td>\n",
       "      <td>0.066788</td>\n",
       "      <td>0.087069</td>\n",
       "      <td>-0.087400</td>\n",
       "      <td>0.071751</td>\n",
       "    </tr>\n",
       "    <tr>\n",
       "      <th>freetime</th>\n",
       "      <td>0.035454</td>\n",
       "      <td>0.067942</td>\n",
       "      <td>0.013413</td>\n",
       "      <td>-0.003707</td>\n",
       "      <td>-0.129344</td>\n",
       "      <td>0.080040</td>\n",
       "      <td>0.129344</td>\n",
       "      <td>0.178120</td>\n",
       "      <td>1.000000</td>\n",
       "      <td>0.291808</td>\n",
       "      <td>0.059721</td>\n",
       "      <td>0.092119</td>\n",
       "      <td>0.033081</td>\n",
       "    </tr>\n",
       "    <tr>\n",
       "      <th>goout</th>\n",
       "      <td>0.143955</td>\n",
       "      <td>0.052201</td>\n",
       "      <td>0.025156</td>\n",
       "      <td>0.033367</td>\n",
       "      <td>-0.044204</td>\n",
       "      <td>0.081687</td>\n",
       "      <td>0.044204</td>\n",
       "      <td>0.066788</td>\n",
       "      <td>0.291808</td>\n",
       "      <td>1.000000</td>\n",
       "      <td>-0.012642</td>\n",
       "      <td>0.144757</td>\n",
       "      <td>-0.116532</td>\n",
       "    </tr>\n",
       "    <tr>\n",
       "      <th>health</th>\n",
       "      <td>-0.051932</td>\n",
       "      <td>-0.045427</td>\n",
       "      <td>0.014250</td>\n",
       "      <td>-0.007213</td>\n",
       "      <td>-0.082259</td>\n",
       "      <td>0.105785</td>\n",
       "      <td>0.082259</td>\n",
       "      <td>0.087069</td>\n",
       "      <td>0.059721</td>\n",
       "      <td>-0.012642</td>\n",
       "      <td>1.000000</td>\n",
       "      <td>-0.038609</td>\n",
       "      <td>-0.068107</td>\n",
       "    </tr>\n",
       "    <tr>\n",
       "      <th>absences</th>\n",
       "      <td>0.136129</td>\n",
       "      <td>0.118103</td>\n",
       "      <td>-0.003954</td>\n",
       "      <td>-0.063166</td>\n",
       "      <td>-0.037688</td>\n",
       "      <td>0.075238</td>\n",
       "      <td>0.037688</td>\n",
       "      <td>-0.087400</td>\n",
       "      <td>0.092119</td>\n",
       "      <td>0.144757</td>\n",
       "      <td>-0.038609</td>\n",
       "      <td>1.000000</td>\n",
       "      <td>0.103781</td>\n",
       "    </tr>\n",
       "    <tr>\n",
       "      <th>score</th>\n",
       "      <td>-0.171702</td>\n",
       "      <td>0.218342</td>\n",
       "      <td>0.130489</td>\n",
       "      <td>-0.071046</td>\n",
       "      <td>0.121601</td>\n",
       "      <td>-0.353602</td>\n",
       "      <td>-0.121601</td>\n",
       "      <td>0.071751</td>\n",
       "      <td>0.033081</td>\n",
       "      <td>-0.116532</td>\n",
       "      <td>-0.068107</td>\n",
       "      <td>0.103781</td>\n",
       "      <td>1.000000</td>\n",
       "    </tr>\n",
       "  </tbody>\n",
       "</table>\n",
       "</div>"
      ],
      "text/plain": [
       "                          age      Medu      Fedu  traveltime  studytime  \\\n",
       "age                  1.000000 -0.156675 -0.164225    0.069424  -0.014416   \n",
       "Medu                -0.156675  1.000000  0.616067   -0.168478   0.101859   \n",
       "Fedu                -0.164225  0.616067  1.000000   -0.131311   0.024650   \n",
       "traveltime           0.069424 -0.168478 -0.131311    1.000000  -0.104515   \n",
       "studytime           -0.014416  0.101859  0.024650   -0.104515   1.000000   \n",
       "failures             0.181867 -0.251999 -0.300482    0.056915  -0.192545   \n",
       "studytime, granular  0.014416 -0.101859 -0.024650    0.104515  -1.000000   \n",
       "famrel               0.055019 -0.004308 -0.014476   -0.022464   0.038749   \n",
       "freetime             0.035454  0.067942  0.013413   -0.003707  -0.129344   \n",
       "goout                0.143955  0.052201  0.025156    0.033367  -0.044204   \n",
       "health              -0.051932 -0.045427  0.014250   -0.007213  -0.082259   \n",
       "absences             0.136129  0.118103 -0.003954   -0.063166  -0.037688   \n",
       "score               -0.171702  0.218342  0.130489   -0.071046   0.121601   \n",
       "\n",
       "                     failures  studytime, granular    famrel  freetime  \\\n",
       "age                  0.181867             0.014416  0.055019  0.035454   \n",
       "Medu                -0.251999            -0.101859 -0.004308  0.067942   \n",
       "Fedu                -0.300482            -0.024650 -0.014476  0.013413   \n",
       "traveltime           0.056915             0.104515 -0.022464 -0.003707   \n",
       "studytime           -0.192545            -1.000000  0.038749 -0.129344   \n",
       "failures             1.000000             0.192545 -0.028048  0.080040   \n",
       "studytime, granular  0.192545             1.000000 -0.038749  0.129344   \n",
       "famrel              -0.028048            -0.038749  1.000000  0.178120   \n",
       "freetime             0.080040             0.129344  0.178120  1.000000   \n",
       "goout                0.081687             0.044204  0.066788  0.291808   \n",
       "health               0.105785             0.082259  0.087069  0.059721   \n",
       "absences             0.075238             0.037688 -0.087400  0.092119   \n",
       "score               -0.353602            -0.121601  0.071751  0.033081   \n",
       "\n",
       "                        goout    health  absences     score  \n",
       "age                  0.143955 -0.051932  0.136129 -0.171702  \n",
       "Medu                 0.052201 -0.045427  0.118103  0.218342  \n",
       "Fedu                 0.025156  0.014250 -0.003954  0.130489  \n",
       "traveltime           0.033367 -0.007213 -0.063166 -0.071046  \n",
       "studytime           -0.044204 -0.082259 -0.037688  0.121601  \n",
       "failures             0.081687  0.105785  0.075238 -0.353602  \n",
       "studytime, granular  0.044204  0.082259  0.037688 -0.121601  \n",
       "famrel               0.066788  0.087069 -0.087400  0.071751  \n",
       "freetime             0.291808  0.059721  0.092119  0.033081  \n",
       "goout                1.000000 -0.012642  0.144757 -0.116532  \n",
       "health              -0.012642  1.000000 -0.038609 -0.068107  \n",
       "absences             0.144757 -0.038609  1.000000  0.103781  \n",
       "score               -0.116532 -0.068107  0.103781  1.000000  "
      ]
     },
     "execution_count": 137,
     "metadata": {},
     "output_type": "execute_result"
    }
   ],
   "source": [
    "students.corr() # Строим матрицу корреляции для количественных параметров"
   ]
  },
  {
   "cell_type": "code",
   "execution_count": 66,
   "id": "7cc91187",
   "metadata": {},
   "outputs": [
    {
     "data": {
      "text/plain": [
       "<AxesSubplot:>"
      ]
     },
     "execution_count": 66,
     "metadata": {},
     "output_type": "execute_result"
    },
    {
     "data": {
      "image/png": "[encoded data removed]",
      "text/plain": [
       "<Figure size 1080x720 with 2 Axes>"
      ]
     },
     "metadata": {},
     "output_type": "display_data"
    }
   ],
   "source": [
    "# Строим тепловую карту для количественных переменных\n",
    "\n",
    "plt.subplots(figsize=(15,10)) #Выбираем масштаб больше, т.к. признаков много\n",
    "matrix = np.triu(students.corr())\n",
    "sns.heatmap(students.corr(), annot = True, fmt='.1g', cmap= 'coolwarm', mask = matrix)"
   ]
  },
  {
   "cell_type": "markdown",
   "id": "1c5f12d6",
   "metadata": {},
   "source": [
    "Наболее сильное влияние на целевую переменную score оказывают age, Medu, failures. \n",
    "\n",
    "Видим полностью скоррелированные переменные 'studytime, granular' и 'studytime'. Одну из них можно удалять.\n",
    "\n",
    "Также достаточно сильная корреляция наблюдается между переменными Medu, Fedu. Вероятно, это можно объяснит тем, что обычно люди выбирают себе супруга с похожим уровнем образования. Поэтому объединим эти переменные в одну - образование родителей Pedu. \n",
    "\n",
    "Связаны также переменные 'goout' и 'freetime', но их мы не будем включать в модель, поскольку влияние на целевой параметр не такое сильное.\n",
    "\n",
    "#### Для построения модели возьмем количественные параметры age, Pedu (объединенные Medu и Fedu), failures, они оказывают наибольшее влияние на целевой параметр score."
   ]
  },
  {
   "cell_type": "code",
   "execution_count": 140,
   "id": "2eabea00",
   "metadata": {},
   "outputs": [],
   "source": [
    "#Объединим образование матери и отца в один столбец - образование родителей\n",
    "students['Pedu'] = students['Fedu'] + students['Medu']"
   ]
  },
  {
   "cell_type": "markdown",
   "id": "39a1e3fa",
   "metadata": {},
   "source": [
    "## Анализ номинативных переменных."
   ]
  },
  {
   "cell_type": "markdown",
   "id": "a83a83b1",
   "metadata": {},
   "source": [
    "Проанализируем влияние номинативных переменных на целевой парамет score. Для этого сначала построим необходимые графики."
   ]
  },
  {
   "cell_type": "code",
   "execution_count": 69,
   "id": "d831552e",
   "metadata": {},
   "outputs": [
    {
     "data": {
      "image/png": "[encoded data removed]",
      "text/plain": [
       "<Figure size 432x288 with 1 Axes>"
      ]
     },
     "metadata": {},
     "output_type": "display_data"
    },
    {
     "data": {
      "image/png": "[encoded data removed]",
      "text/plain": [
       "<Figure size 432x288 with 1 Axes>"
      ]
     },
     "metadata": {},
     "output_type": "display_data"
    },
    {
     "data": {
      "image/png": "[encoded data removed]",
      "text/plain": [
       "<Figure size 432x288 with 1 Axes>"
      ]
     },
     "metadata": {},
     "output_type": "display_data"
    },
    {
     "data": {
      "image/png": "[encoded data removed]",
      "text/plain": [
       "<Figure size 432x288 with 1 Axes>"
      ]
     },
     "metadata": {},
     "output_type": "display_data"
    },
    {
     "data": {
      "image/png": "[encoded data removed]",
      "text/plain": [
       "<Figure size 432x288 with 1 Axes>"
      ]
     },
     "metadata": {},
     "output_type": "display_data"
    },
    {
     "data": {
      "image/png": "[encoded data removed]",
      "text/plain": [
       "<Figure size 432x288 with 1 Axes>"
      ]
     },
     "metadata": {},
     "output_type": "display_data"
    },
    {
     "data": {
      "image/png": "[encoded data removed]",
      "text/plain": [
       "<Figure size 432x288 with 1 Axes>"
      ]
     },
     "metadata": {},
     "output_type": "display_data"
    },
    {
     "data": {
      "image/png": "[encoded data removed]",
      "text/plain": [
       "<Figure size 432x288 with 1 Axes>"
      ]
     },
     "metadata": {},
     "output_type": "display_data"
    },
    {
     "data": {
      "image/png": "[encoded data removed]",
      "text/plain": [
       "<Figure size 432x288 with 1 Axes>"
      ]
     },
     "metadata": {},
     "output_type": "display_data"
    },
    {
     "data": {
      "image/png": "[encoded data removed]",
      "text/plain": [
       "<Figure size 432x288 with 1 Axes>"
      ]
     },
     "metadata": {},
     "output_type": "display_data"
    },
    {
     "data": {
      "image/png": "[encoded data removed]",
      "text/plain": [
       "<Figure size 432x288 with 1 Axes>"
      ]
     },
     "metadata": {},
     "output_type": "display_data"
    },
    {
     "data": {
      "image/png": "[encoded data removed]",
      "text/plain": [
       "<Figure size 432x288 with 1 Axes>"
      ]
     },
     "metadata": {},
     "output_type": "display_data"
    },
    {
     "data": {
      "image/png": "[encoded data removed]",
      "text/plain": [
       "<Figure size 432x288 with 1 Axes>"
      ]
     },
     "metadata": {},
     "output_type": "display_data"
    },
    {
     "data": {
      "image/png": "[encoded data removed]",
      "text/plain": [
       "<Figure size 432x288 with 1 Axes>"
      ]
     },
     "metadata": {},
     "output_type": "display_data"
    },
    {
     "data": {
      "image/png": "[encoded data removed]",
      "text/plain": [
       "<Figure size 432x288 with 1 Axes>"
      ]
     },
     "metadata": {},
     "output_type": "display_data"
    },
    {
     "data": {
      "image/png": "[encoded data removed]",
      "text/plain": [
       "<Figure size 432x288 with 1 Axes>"
      ]
     },
     "metadata": {},
     "output_type": "display_data"
    },
    {
     "data": {
      "image/png": "[encoded data removed]",
      "text/plain": [
       "<Figure size 432x288 with 1 Axes>"
      ]
     },
     "metadata": {},
     "output_type": "display_data"
    }
   ],
   "source": [
    "columns = ['school','sex','address', 'famsize','Pstatus','Mjob','Fjob','reason','guardian',\n",
    "          'schoolsup', 'famsup','paid','activities','nursery','higher','internet','romantic']\n",
    "for column in columns: \n",
    "    get_boxplot(column)"
   ]
  },
  {
   "cell_type": "markdown",
   "id": "aa2a5ab2",
   "metadata": {},
   "source": [
    "  Визуально наиболее сильное влияние на целевой параметр оказывают параметры sex, address, Mjob, Fjob, schoolsup, higher.\n",
    " "
   ]
  },
  {
   "cell_type": "markdown",
   "id": "256d49fb",
   "metadata": {},
   "source": [
    "Проверим, есть ли статистическая разница в распределении оценок по номинативным признакам, с помощью теста Стьюдента. \n",
    "  Проверим нулевую гипотезу о том, что распределения оценок студентов по различным параметрам неразличимы."
   ]
  },
  {
   "cell_type": "code",
   "execution_count": 72,
   "id": "1b7daa8d",
   "metadata": {
    "scrolled": true
   },
   "outputs": [
    {
     "name": "stdout",
     "output_type": "stream",
     "text": [
      "Найдены статистически значимые различия для колонки sex\n",
      "Найдены статистически значимые различия для колонки address\n",
      "Найдены статистически значимые различия для колонки Mjob\n",
      "Найдены статистически значимые различия для колонки paid\n",
      "Найдены статистически значимые различия для колонки higher\n",
      "Найдены статистически значимые различия для колонки romantic\n"
     ]
    }
   ],
   "source": [
    "columns = ['school','sex','address', 'famsize','Pstatus','Mjob','Fjob','reason','guardian',\n",
    "          'schoolsup', 'famsup','paid','activities','nursery','higher','internet','romantic']\n",
    "for column in columns: \n",
    "    get_stat_dif(column)"
   ]
  },
  {
   "cell_type": "markdown",
   "id": "e9e504e1",
   "metadata": {},
   "source": [
    "#### Для построения модели возьмем следующие номинативные параметры:\n",
    " - sex, address, paid, higher, romantic, полученные с помощью теста Стюдента;\n",
    " - Mjob, Fjob, schoolsup, определенные визуально с помощью графиков"
   ]
  },
  {
   "cell_type": "markdown",
   "id": "3948d77a",
   "metadata": {},
   "source": [
    "## Создание нового датафрейма для модели"
   ]
  },
  {
   "cell_type": "code",
   "execution_count": 143,
   "id": "9212bcc4",
   "metadata": {},
   "outputs": [
    {
     "data": {
      "text/html": [
       "<div>\n",
       "<style scoped>\n",
       "    .dataframe tbody tr th:only-of-type {\n",
       "        vertical-align: middle;\n",
       "    }\n",
       "\n",
       "    .dataframe tbody tr th {\n",
       "        vertical-align: top;\n",
       "    }\n",
       "\n",
       "    .dataframe thead th {\n",
       "        text-align: right;\n",
       "    }\n",
       "</style>\n",
       "<table border=\"1\" class=\"dataframe\">\n",
       "  <thead>\n",
       "    <tr style=\"text-align: right;\">\n",
       "      <th></th>\n",
       "      <th>failures</th>\n",
       "      <th>age</th>\n",
       "      <th>Pedu</th>\n",
       "      <th>sex</th>\n",
       "      <th>address</th>\n",
       "      <th>Mjob</th>\n",
       "      <th>Fjob</th>\n",
       "      <th>schoolsup</th>\n",
       "      <th>higher</th>\n",
       "      <th>paid</th>\n",
       "      <th>romantic</th>\n",
       "      <th>score</th>\n",
       "    </tr>\n",
       "  </thead>\n",
       "  <tbody>\n",
       "    <tr>\n",
       "      <th>0</th>\n",
       "      <td>0.0</td>\n",
       "      <td>18</td>\n",
       "      <td>8.0</td>\n",
       "      <td>F</td>\n",
       "      <td>U</td>\n",
       "      <td>at_home</td>\n",
       "      <td>teacher</td>\n",
       "      <td>yes</td>\n",
       "      <td>yes</td>\n",
       "      <td>no</td>\n",
       "      <td>no</td>\n",
       "      <td>30.0</td>\n",
       "    </tr>\n",
       "    <tr>\n",
       "      <th>1</th>\n",
       "      <td>0.0</td>\n",
       "      <td>17</td>\n",
       "      <td>2.0</td>\n",
       "      <td>F</td>\n",
       "      <td>U</td>\n",
       "      <td>at_home</td>\n",
       "      <td>other</td>\n",
       "      <td>no</td>\n",
       "      <td>yes</td>\n",
       "      <td>no</td>\n",
       "      <td>no</td>\n",
       "      <td>30.0</td>\n",
       "    </tr>\n",
       "    <tr>\n",
       "      <th>2</th>\n",
       "      <td>3.0</td>\n",
       "      <td>15</td>\n",
       "      <td>2.0</td>\n",
       "      <td>F</td>\n",
       "      <td>U</td>\n",
       "      <td>at_home</td>\n",
       "      <td>other</td>\n",
       "      <td>yes</td>\n",
       "      <td>yes</td>\n",
       "      <td>NaN</td>\n",
       "      <td>NaN</td>\n",
       "      <td>50.0</td>\n",
       "    </tr>\n",
       "    <tr>\n",
       "      <th>3</th>\n",
       "      <td>0.0</td>\n",
       "      <td>15</td>\n",
       "      <td>6.0</td>\n",
       "      <td>F</td>\n",
       "      <td>U</td>\n",
       "      <td>health</td>\n",
       "      <td>NaN</td>\n",
       "      <td>no</td>\n",
       "      <td>yes</td>\n",
       "      <td>yes</td>\n",
       "      <td>yes</td>\n",
       "      <td>75.0</td>\n",
       "    </tr>\n",
       "    <tr>\n",
       "      <th>4</th>\n",
       "      <td>0.0</td>\n",
       "      <td>16</td>\n",
       "      <td>6.0</td>\n",
       "      <td>F</td>\n",
       "      <td>U</td>\n",
       "      <td>other</td>\n",
       "      <td>other</td>\n",
       "      <td>no</td>\n",
       "      <td>yes</td>\n",
       "      <td>yes</td>\n",
       "      <td>no</td>\n",
       "      <td>50.0</td>\n",
       "    </tr>\n",
       "    <tr>\n",
       "      <th>...</th>\n",
       "      <td>...</td>\n",
       "      <td>...</td>\n",
       "      <td>...</td>\n",
       "      <td>...</td>\n",
       "      <td>...</td>\n",
       "      <td>...</td>\n",
       "      <td>...</td>\n",
       "      <td>...</td>\n",
       "      <td>...</td>\n",
       "      <td>...</td>\n",
       "      <td>...</td>\n",
       "      <td>...</td>\n",
       "    </tr>\n",
       "    <tr>\n",
       "      <th>389</th>\n",
       "      <td>1.0</td>\n",
       "      <td>18</td>\n",
       "      <td>2.0</td>\n",
       "      <td>F</td>\n",
       "      <td>U</td>\n",
       "      <td>other</td>\n",
       "      <td>other</td>\n",
       "      <td>no</td>\n",
       "      <td>yes</td>\n",
       "      <td>no</td>\n",
       "      <td>no</td>\n",
       "      <td>0.0</td>\n",
       "    </tr>\n",
       "    <tr>\n",
       "      <th>391</th>\n",
       "      <td>0.0</td>\n",
       "      <td>17</td>\n",
       "      <td>4.0</td>\n",
       "      <td>M</td>\n",
       "      <td>U</td>\n",
       "      <td>services</td>\n",
       "      <td>services</td>\n",
       "      <td>no</td>\n",
       "      <td>yes</td>\n",
       "      <td>no</td>\n",
       "      <td>no</td>\n",
       "      <td>80.0</td>\n",
       "    </tr>\n",
       "    <tr>\n",
       "      <th>392</th>\n",
       "      <td>3.0</td>\n",
       "      <td>21</td>\n",
       "      <td>2.0</td>\n",
       "      <td>M</td>\n",
       "      <td>R</td>\n",
       "      <td>other</td>\n",
       "      <td>other</td>\n",
       "      <td>NaN</td>\n",
       "      <td>NaN</td>\n",
       "      <td>no</td>\n",
       "      <td>no</td>\n",
       "      <td>35.0</td>\n",
       "    </tr>\n",
       "    <tr>\n",
       "      <th>393</th>\n",
       "      <td>0.0</td>\n",
       "      <td>18</td>\n",
       "      <td>5.0</td>\n",
       "      <td>M</td>\n",
       "      <td>R</td>\n",
       "      <td>services</td>\n",
       "      <td>other</td>\n",
       "      <td>no</td>\n",
       "      <td>yes</td>\n",
       "      <td>no</td>\n",
       "      <td>no</td>\n",
       "      <td>50.0</td>\n",
       "    </tr>\n",
       "    <tr>\n",
       "      <th>394</th>\n",
       "      <td>0.0</td>\n",
       "      <td>19</td>\n",
       "      <td>2.0</td>\n",
       "      <td>M</td>\n",
       "      <td>U</td>\n",
       "      <td>other</td>\n",
       "      <td>at_home</td>\n",
       "      <td>NaN</td>\n",
       "      <td>yes</td>\n",
       "      <td>no</td>\n",
       "      <td>no</td>\n",
       "      <td>45.0</td>\n",
       "    </tr>\n",
       "  </tbody>\n",
       "</table>\n",
       "<p>362 rows × 12 columns</p>\n",
       "</div>"
      ],
      "text/plain": [
       "     failures  age  Pedu sex address      Mjob      Fjob schoolsup higher  \\\n",
       "0         0.0   18   8.0   F       U   at_home   teacher       yes    yes   \n",
       "1         0.0   17   2.0   F       U   at_home     other        no    yes   \n",
       "2         3.0   15   2.0   F       U   at_home     other       yes    yes   \n",
       "3         0.0   15   6.0   F       U    health       NaN        no    yes   \n",
       "4         0.0   16   6.0   F       U     other     other        no    yes   \n",
       "..        ...  ...   ...  ..     ...       ...       ...       ...    ...   \n",
       "389       1.0   18   2.0   F       U     other     other        no    yes   \n",
       "391       0.0   17   4.0   M       U  services  services        no    yes   \n",
       "392       3.0   21   2.0   M       R     other     other       NaN    NaN   \n",
       "393       0.0   18   5.0   M       R  services     other        no    yes   \n",
       "394       0.0   19   2.0   M       U     other   at_home       NaN    yes   \n",
       "\n",
       "    paid romantic  score  \n",
       "0     no       no   30.0  \n",
       "1     no       no   30.0  \n",
       "2    NaN      NaN   50.0  \n",
       "3    yes      yes   75.0  \n",
       "4    yes       no   50.0  \n",
       "..   ...      ...    ...  \n",
       "389   no       no    0.0  \n",
       "391   no       no   80.0  \n",
       "392   no       no   35.0  \n",
       "393   no       no   50.0  \n",
       "394   no       no   45.0  \n",
       "\n",
       "[362 rows x 12 columns]"
      ]
     },
     "execution_count": 143,
     "metadata": {},
     "output_type": "execute_result"
    }
   ],
   "source": [
    "students_new = students[['failures','age', 'Pedu',\n",
    "                         'sex','address','Mjob','Fjob','schoolsup','higher','paid','romantic',\n",
    "                         'score']]\n",
    "students_new"
   ]
  },
  {
   "cell_type": "markdown",
   "id": "a233b0cd",
   "metadata": {},
   "source": [
    "## Выводы"
   ]
  },
  {
   "cell_type": "markdown",
   "id": "76b24580",
   "metadata": {},
   "source": [
    "1. Была проведена первичная обработка данных, устранены выбросы:\n",
    "    - для колонки Fedu значение 40.0 заменено на 4.0 (заданный диапазон значений для колонки от 0 до 4);\n",
    "    - для колонки famrel значение -1.0 заменено на 1.0 (заданный диапазон значений для колонки от 1 до 5);\n",
    "    - для колонки absences обнаружены большие отклонения, поэтому были определены границы выбросов и выходящие за рамки значения удалены;\n",
    "    - в колонках Pstatus, famsup, paid обнаружено большое количество пропусков (10% и более), которые заменены на модальное значение соответсвующего параметра;\n",
    "    - для целевой переменной score были удалены все пропуски.    \n",
    "2. Был проведен  корреляционный анализ количественных переменных: \n",
    "    - построены матрица корреляции и тепловая карта;\n",
    "    - выявлены полностью скоррелированные переменные 'studytime, granular' и 'studytime';\n",
    "    - принято решение объединить переменные Medu и Fedu в одну - образование родителей Pedu;\n",
    "    - отобраны количественные переменные, которые оказывают наибольшее влияние на целевой параметр score.   \n",
    "3. Были проанализированы номинативные переменные:\n",
    "    - построены графики типа boxplot;\n",
    "    - проведены тесты Стьюдента для нахождения статистически значимых различий для колонок;\n",
    "    - отобраны номинативные переменные, которые оказывают наибольшее влияние на целевой параметр score.\n",
    "4. В результате отобраны параметры с наибольшим влиянием на целевой параметр score:\n",
    "    - количественные переменные age, Pedu, failures;\n",
    "    - номинативные переменные sex, address, paid, higher, romantic, Mjob, Fjob, schoolsup."
   ]
  }
 ],
 "metadata": {
  "kernelspec": {
   "display_name": "Python 3",
   "language": "python",
   "name": "python3"
  },
  "language_info": {
   "codemirror_mode": {
    "name": "ipython",
    "version": 3
   },
   "file_extension": ".py",
   "mimetype": "text/x-python",
   "name": "python",
   "nbconvert_exporter": "python",
   "pygments_lexer": "ipython3",
   "version": "3.8.8"
  }
 },
 "nbformat": 4,
 "nbformat_minor": 5
}
